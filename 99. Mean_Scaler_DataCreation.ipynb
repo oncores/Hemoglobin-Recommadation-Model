{
 "cells": [
  {
   "cell_type": "code",
   "execution_count": 1,
   "metadata": {},
   "outputs": [],
   "source": [
    "import pandas as pd\n",
    "import numpy as np\n",
    "import re\n",
    "import time\n",
    "from datetime import datetime\n",
    "import pickle as pkl\n",
    "from collections import Counter\n",
    "\n",
    "from sklearn.model_selection import train_test_split\n",
    "from sklearn.metrics import mean_absolute_error, mean_squared_error\n",
    "from sklearn.preprocessing import StandardScaler, MinMaxScaler\n",
    "from tqdm import tqdm\n",
    "from sklearn import linear_model\n",
    "\n",
    "# import tensorflow as tf\n",
    "# from keras.backend.tensorflow_backend import set_session\n",
    "# config = tf.ConfigProto()\n",
    "# config.gpu_options.per_process_gpu_memory_fraction = 0.4\n",
    "# set_session(tf.Session(config=config))\n",
    "\n",
    "import matplotlib.pyplot as plt\n",
    "import seaborn as sns\n",
    "\n",
    "pd.set_option('display.max_columns', 500)\n",
    "pd.set_option('display.max_rows', 1000)\n",
    "\n",
    "from tensorflow.keras import backend as K\n",
    "from tensorflow.keras.layers import Input, Embedding, Dense, LSTM, GaussianNoise, GRU, CuDNNGRU, Bidirectional, TimeDistributed, Dropout, Concatenate\n",
    "from tensorflow.keras.models import Model\n",
    "from tensorflow.keras.callbacks import ModelCheckpoint, EarlyStopping\n",
    "from tensorflow.keras.optimizers import Adam\n",
    "from tensorflow.keras.utils import Sequence\n",
    "\n",
    "def evaluate(y_te, pred):\n",
    "    print(\"mae: {:.4f}\".format(mean_absolute_error(y_te, pred)))\n",
    "    print(\"rmse: {:.4f}\".format(mean_squared_error(y_te, pred)**(1/2)))\n",
    "    print(\"me: {:.4f}\".format((y_te-pred).mean()))"
   ]
  },
  {
   "cell_type": "markdown",
   "metadata": {},
   "source": [
    "# Data Creation"
   ]
  },
  {
   "cell_type": "code",
   "execution_count": 2,
   "metadata": {},
   "outputs": [],
   "source": [
    "df = pd.read_excel(\"data_processed.xlsx\", sheet_name=0, header=0)"
   ]
  },
  {
   "cell_type": "code",
   "execution_count": null,
   "metadata": {},
   "outputs": [],
   "source": [
    "indexes = np.unique(df['Study_Subject_Number'].values, return_index=True)[1]\n",
    "patient_list = [df['Study_Subject_Number'].values[index] for index in sorted(indexes)]"
   ]
  },
  {
   "cell_type": "code",
   "execution_count": 3,
   "metadata": {},
   "outputs": [
    {
     "data": {
      "text/plain": [
       "Study_Subject_Number          0\n",
       "Order                         0\n",
       "Age (yrs)                     0\n",
       "Sex_M                         0\n",
       "Sex_F                         0\n",
       "Height (cm)                   0\n",
       "Date                          0\n",
       "SBP_start(mmHg)               0\n",
       "SBP_End(mmHg)               107\n",
       "Dry Weight                   47\n",
       "Predialysis Weight            4\n",
       "Post_dialysis Weight         99\n",
       "Ultrafilteration Volume       3\n",
       "Hct[Whole blood]              2\n",
       "MCV[Whole blood]            114\n",
       "MCHC[Whole blood]           114\n",
       "MCH[Whole blood]            114\n",
       "RDW[Whole blood]             52\n",
       "MPV[Whole blood]             84\n",
       "PLT Count[Whole blood]       89\n",
       "WBC COUNT[Whole blood]        2\n",
       "Calcium[Serum]               61\n",
       "Inorganic P[Serum]           51\n",
       "Glucose[Serum]               69\n",
       "Total Protein[Serum]         49\n",
       "Albumin[Serum]               46\n",
       "Creatinine[Serum]            40\n",
       "Uric Acid[Serum]             76\n",
       "Serum Iron[Serum]          3787\n",
       "URR[Serum]                 2430\n",
       "EPO_Dose                      0\n",
       "Hemoglobin[Whole blood]       0\n",
       "Date_diff                     0\n",
       "Target_Hb                     0\n",
       "Delta_Hb                      0\n",
       "dtype: int64"
      ]
     },
     "execution_count": 3,
     "metadata": {},
     "output_type": "execute_result"
    }
   ],
   "source": [
    "df.isnull().sum()"
   ]
  },
  {
   "cell_type": "code",
   "execution_count": null,
   "metadata": {},
   "outputs": [],
   "source": []
  },
  {
   "cell_type": "markdown",
   "metadata": {},
   "source": [
    "### Remove Date"
   ]
  },
  {
   "cell_type": "code",
   "execution_count": 4,
   "metadata": {},
   "outputs": [
    {
     "data": {
      "image/png": "[encoded data removed]",
      "text/plain": [
       "<Figure size 432x288 with 1 Axes>"
      ]
     },
     "metadata": {
      "needs_background": "light"
     },
     "output_type": "display_data"
    }
   ],
   "source": [
    "plt.hist(df['Date_diff'].values, bins = 100)\n",
    "plt.show()\n",
    "\n",
    "df['Date_diff'][df['Date_diff']>100]\n",
    "\n",
    "df['Study_Subject_Number'][df['Date_diff']>100]\n",
    "\n",
    "df = df[df['Study_Subject_Number']!='D-036']\n",
    "df = df[df['Study_Subject_Number']!='D-042']\n",
    "df = df[df['Study_Subject_Number']!='D-044']\n",
    "df = df[df['Study_Subject_Number']!='F-037']\n",
    "df = df[df['Study_Subject_Number']!='A-139']"
   ]
  },
  {
   "cell_type": "code",
   "execution_count": 5,
   "metadata": {},
   "outputs": [
    {
     "data": {
      "image/png": "[encoded data removed]",
      "text/plain": [
       "<Figure size 432x288 with 1 Axes>"
      ]
     },
     "metadata": {
      "needs_background": "light"
     },
     "output_type": "display_data"
    }
   ],
   "source": [
    "plt.hist(df.groupby('Study_Subject_Number')['Date_diff'].mean(), bins=200)\n",
    "plt.show()\n",
    "\n",
    "df.groupby('Study_Subject_Number')['Date_diff'].mean()[df.groupby('Study_Subject_Number')['Date_diff'].mean() > 45]\n",
    "\n",
    "df = df[df['Study_Subject_Number']!='A-167']\n",
    "df = df[df['Study_Subject_Number']!='E-024']"
   ]
  },
  {
   "cell_type": "code",
   "execution_count": 6,
   "metadata": {},
   "outputs": [
    {
     "data": {
      "image/png": "[encoded data removed]",
      "text/plain": [
       "<Figure size 432x288 with 1 Axes>"
      ]
     },
     "metadata": {
      "needs_background": "light"
     },
     "output_type": "display_data"
    }
   ],
   "source": [
    "plt.hist(df.groupby('Study_Subject_Number')['Date_diff'].var(), bins=200)\n",
    "plt.show()\n",
    "\n",
    "df.groupby('Study_Subject_Number')['Date_diff'].var()[df.groupby('Study_Subject_Number')['Date_diff'].var() > 400]\n",
    "\n",
    "df = df[df['Study_Subject_Number']!='A-043']\n",
    "df = df[df['Study_Subject_Number']!='D-096']"
   ]
  },
  {
   "cell_type": "code",
   "execution_count": null,
   "metadata": {},
   "outputs": [],
   "source": []
  },
  {
   "cell_type": "code",
   "execution_count": null,
   "metadata": {},
   "outputs": [],
   "source": []
  },
  {
   "cell_type": "code",
   "execution_count": 7,
   "metadata": {},
   "outputs": [],
   "source": [
    "target_var = ['Target_Hb']\n",
    "\n",
    "info_vars = ['Study_Subject_Number', 'Order'] \n",
    "\n",
    "categoryA = [\"Hemoglobin[Whole blood]\", \"Delta_Hb\", \"RDW[Whole blood]\", \"MCV[Whole blood]\", \"MCH[Whole blood]\", \"MCHC[Whole blood]\", \"Serum Iron[Serum]\", \"Age (yrs)\", \"Sex_M\", \"Sex_F\", 'EPO_Dose']\n",
    "\n",
    "categoryB = [\"URR[Serum]\", 'Dry Weight', 'Albumin[Serum]', 'Predialysis Weight', 'Height (cm)']\n",
    "\n",
    "trn_vars = categoryA + categoryB\n",
    "\n",
    "all_vars = info_vars + trn_vars + target_var"
   ]
  },
  {
   "cell_type": "code",
   "execution_count": 8,
   "metadata": {},
   "outputs": [],
   "source": [
    "indexes = np.unique(df['Study_Subject_Number'].values, return_index=True)[1]\n",
    "patient_list = [df['Study_Subject_Number'].values[index] for index in sorted(indexes)]"
   ]
  },
  {
   "cell_type": "code",
   "execution_count": 9,
   "metadata": {},
   "outputs": [
    {
     "data": {
      "text/plain": [
       "457"
      ]
     },
     "execution_count": 9,
     "metadata": {},
     "output_type": "execute_result"
    }
   ],
   "source": [
    "len(patient_list)"
   ]
  },
  {
   "cell_type": "code",
   "execution_count": 9,
   "metadata": {},
   "outputs": [],
   "source": [
    "def data_generation(data, patient_list, seq_len, trn_scaler=None, trg_scaler=None):\n",
    "\n",
    "    seq_set = []\n",
    "    patient_set = []\n",
    "    \n",
    "    for p in tqdm(patient_list):\n",
    "        record_len = len(data[data['Study_Subject_Number'] == p])\n",
    "        for i in range(seq_len, record_len+1):\n",
    "            if i<= record_len:\n",
    "                seq_idx = data[data['Study_Subject_Number'] == p].index[i-seq_len:i].values\n",
    "                seq_order = data['Order'][data['Study_Subject_Number'] == p].iloc[i-seq_len:i].values\n",
    "\n",
    "                seq_set.append(seq_idx)\n",
    "                patient_set.append(seq_order)\n",
    "                \n",
    "    if trn_scaler:\n",
    "        data_matrix = trn_scaler.transform(data[trn_vars])\n",
    "    else:\n",
    "        data_matrix = data[trn_vars].values\n",
    "        \n",
    "    if trg_scaler:\n",
    "        label = trg_scaler.transform(data[target_var])\n",
    "    else:\n",
    "        label = data[target_var].values\n",
    "\n",
    "    x_data = np.array([data_matrix[seq] for seq in seq_set])\n",
    "    y_data = np.array([label[seq][-1] for seq in seq_set])\n",
    "    patient_set = np.array(patient_set)\n",
    "    \n",
    "    return x_data, y_data, patient_set"
   ]
  },
  {
   "cell_type": "code",
   "execution_count": 10,
   "metadata": {},
   "outputs": [],
   "source": [
    "seqences_we_want = [1,2,3,4,5,6]\n",
    "seed = 0"
   ]
  },
  {
   "cell_type": "markdown",
   "metadata": {},
   "source": [
    "# Pure Data"
   ]
  },
  {
   "cell_type": "code",
   "execution_count": 11,
   "metadata": {},
   "outputs": [],
   "source": [
    "pure_to_be_saved = pd.DataFrame()\n",
    "patient_list_wo_na = []\n",
    "for p in patient_list:\n",
    "    temp = df[df['Study_Subject_Number']==p]\n",
    "    if sum(temp.isnull().sum())==0:\n",
    "        patient_list_wo_na.append(p)\n",
    "        pure_to_be_saved = pd.concat([pure_to_be_saved, temp])\n",
    "data_pure = pure_to_be_saved[all_vars]\n",
    "data_pure.to_excel(\"Anemia_Pure.xlsx\", index=False)"
   ]
  },
  {
   "cell_type": "code",
   "execution_count": 12,
   "metadata": {},
   "outputs": [
    {
     "data": {
      "text/plain": [
       "86"
      ]
     },
     "execution_count": 12,
     "metadata": {},
     "output_type": "execute_result"
    }
   ],
   "source": [
    "len(patient_list_wo_na)"
   ]
  },
  {
   "cell_type": "code",
   "execution_count": 13,
   "metadata": {},
   "outputs": [],
   "source": [
    "train_patient_pure, test_patient_pure = train_test_split(patient_list_wo_na, test_size = 0.2, random_state=seed)\n",
    "valid_patient_pure, test_patient_pure = train_test_split(test_patient_pure, test_size = 0.5, random_state=seed)"
   ]
  },
  {
   "cell_type": "code",
   "execution_count": 14,
   "metadata": {},
   "outputs": [],
   "source": [
    "print('Train:', len(train_patient_pure))\n",
    "print('Valid:', len(valid_patient_pure))\n",
    "print('Test:', len(test_patient_pure))"
   ]
  },
  {
   "cell_type": "code",
   "execution_count": null,
   "metadata": {},
   "outputs": [],
   "source": [
    "trn_idx = []\n",
    "for p in train_patient_pure:\n",
    "    trn_idx.extend(df_mean[df_mean['Study_Subject_Number']==p].index.values)"
   ]
  },
  {
   "cell_type": "code",
   "execution_count": null,
   "metadata": {},
   "outputs": [],
   "source": [
    "trn_scaler_pure = StandardScaler().fit(data_pure[trn_vars].iloc[trn_idx])\n",
    "with open('./trn_scaler_pure.pkl','wb') as f:\n",
    "    pkl.dump(trn_scaler_pure, f)\n",
    "\n",
    "hb_scaler_pure = StandardScaler().fit(data_pure[target_var].iloc[trn_idx])\n",
    "with open('./hb_scaler_pure.pkl','wb') as f:\n",
    "    pkl.dump(hb_scaler_pure, f)"
   ]
  },
  {
   "cell_type": "code",
   "execution_count": 16,
   "metadata": {},
   "outputs": [],
   "source": [
    "for seq_len in seqences_we_want:\n",
    "    \n",
    "    x_train, y_train, order_train_pure = data_generation(df, train_patient_pure, seq_len, scaler_pure)\n",
    "    x_valid, y_valid, order_valid_pure = data_generation(df, valid_patient_pure, seq_len, scaler_pure)\n",
    "    x_test, y_test, order_test_pure = data_generation(df, test_patient_pure, seq_len, scaler_pure)\n",
    "    \n",
    "    print('Seq Len:', seq_len, '|', len(train_patient_pure), len(valid_patient_pure), len(test_patient_pure))\n",
    "    print(np.mean(x_train),np.mean(x_valid),np.mean(x_test))\n",
    "    \n",
    "    with open('./pure_'+str(seq_len)+'.pkl','wb') as f:\n",
    "        pkl.dump([[x_train,y_train, order_train_pure],[x_valid,y_valid, order_valid_pure],[x_test,y_test, order_test_pure]], f)"
   ]
  },
  {
   "cell_type": "code",
   "execution_count": null,
   "metadata": {},
   "outputs": [],
   "source": []
  },
  {
   "cell_type": "code",
   "execution_count": null,
   "metadata": {},
   "outputs": [],
   "source": []
  },
  {
   "cell_type": "markdown",
   "metadata": {},
   "source": [
    "# Mean Imputation"
   ]
  },
  {
   "cell_type": "code",
   "execution_count": 13,
   "metadata": {},
   "outputs": [],
   "source": [
    "df_mean = df[all_vars].copy()\n",
    "df_mean.index = list(range(len(df_mean)))"
   ]
  },
  {
   "cell_type": "code",
   "execution_count": 14,
   "metadata": {},
   "outputs": [
    {
     "name": "stdout",
     "output_type": "stream",
     "text": [
      "14.193015813827515\n"
     ]
    }
   ],
   "source": [
    "start = time.time()\n",
    "variable_mean = df_mean.mean()\n",
    "for p in patient_list:\n",
    "    df_mean[df_mean['Study_Subject_Number']==p] = df_mean[df_mean['Study_Subject_Number']==p].fillna(method='ffill') # fill all below\n",
    "    df_mean[df_mean['Study_Subject_Number']==p] = df_mean[df_mean['Study_Subject_Number']==p].fillna(method='bfill') # fill all above\n",
    "    df_mean[df_mean['Study_Subject_Number']==p] = df_mean[df_mean['Study_Subject_Number']==p].fillna(value = variable_mean) # fill with mean if none exists\n",
    "print(time.time()-start) # 15.924424648284912\n",
    "\n",
    "df_mean[all_vars].to_excel(\"Anemia_MEAN.xlsx\", index=False)"
   ]
  },
  {
   "cell_type": "code",
   "execution_count": 15,
   "metadata": {},
   "outputs": [],
   "source": [
    "train_patient_mean, test_patient_mean = train_test_split(patient_list, test_size = 0.2, random_state=seed)\n",
    "valid_patient_mean, test_patient_mean = train_test_split(test_patient_mean, test_size = 0.5, random_state=seed)"
   ]
  },
  {
   "cell_type": "code",
   "execution_count": 16,
   "metadata": {},
   "outputs": [
    {
     "name": "stdout",
     "output_type": "stream",
     "text": [
      "Train: 365\n",
      "Valid: 46\n",
      "Test: 46\n"
     ]
    }
   ],
   "source": [
    "print('Train:', len(train_patient_mean))\n",
    "print('Valid:', len(valid_patient_mean))\n",
    "print('Test:', len(test_patient_mean))"
   ]
  },
  {
   "cell_type": "code",
   "execution_count": 21,
   "metadata": {},
   "outputs": [],
   "source": [
    "# Train: 372\n",
    "# Valid: 47\n",
    "# Test: 47"
   ]
  },
  {
   "cell_type": "code",
   "execution_count": 22,
   "metadata": {},
   "outputs": [],
   "source": [
    "trn_idx = []\n",
    "for p in train_patient_mean:\n",
    "    trn_idx.extend(df_mean[df_mean['Study_Subject_Number']==p].index.values)"
   ]
  },
  {
   "cell_type": "code",
   "execution_count": 23,
   "metadata": {},
   "outputs": [],
   "source": [
    "trn_scaler_mean = StandardScaler().fit(df_mean[trn_vars].iloc[trn_idx])\n",
    "with open('./trn_scaler_mean_classifier.pkl','wb') as f:\n",
    "    pkl.dump(trn_scaler_mean, f)\n",
    "\n",
    "hb_scaler_mean = StandardScaler().fit(df_mean[target_var].iloc[trn_idx])\n",
    "with open('./hb_scaler_mean_classifier.pkl','wb') as f:\n",
    "    pkl.dump(hb_scaler_mean, f)"
   ]
  },
  {
   "cell_type": "code",
   "execution_count": 24,
   "metadata": {},
   "outputs": [
    {
     "name": "stderr",
     "output_type": "stream",
     "text": [
      "100%|████████████████████████████████| 365/365 [00:26<00:00, 14.26it/s]\n",
      "100%|██████████████████████████████████| 46/46 [00:03<00:00, 11.04it/s]\n",
      "100%|██████████████████████████████████| 46/46 [00:03<00:00, 11.61it/s]\n"
     ]
    },
    {
     "name": "stdout",
     "output_type": "stream",
     "text": [
      "Seq Len: 1 | 11905 1607 1427\n",
      "2.1426698205617468e-16 0.010053204386681159 0.022461285759866594\n"
     ]
    },
    {
     "name": "stderr",
     "output_type": "stream",
     "text": [
      "100%|████████████████████████████████| 365/365 [00:25<00:00, 14.74it/s]\n",
      "100%|██████████████████████████████████| 46/46 [00:03<00:00, 11.34it/s]\n",
      "100%|██████████████████████████████████| 46/46 [00:03<00:00, 11.89it/s]\n"
     ]
    },
    {
     "name": "stdout",
     "output_type": "stream",
     "text": [
      "Seq Len: 2 | 11540 1561 1381\n",
      "0.0005188433198703588 0.010919453902401746 0.023464539942196567\n"
     ]
    },
    {
     "name": "stderr",
     "output_type": "stream",
     "text": [
      "100%|████████████████████████████████| 365/365 [00:24<00:00, 15.18it/s]\n",
      "100%|██████████████████████████████████| 46/46 [00:03<00:00, 11.59it/s]\n",
      "100%|██████████████████████████████████| 46/46 [00:02<00:00, 12.16it/s]\n"
     ]
    },
    {
     "name": "stdout",
     "output_type": "stream",
     "text": [
      "Seq Len: 3 | 11175 1515 1335\n",
      "0.0014592547223939933 0.012005632612291242 0.024823530733559716\n"
     ]
    },
    {
     "name": "stderr",
     "output_type": "stream",
     "text": [
      "100%|████████████████████████████████| 365/365 [00:24<00:00, 15.78it/s]\n",
      "100%|██████████████████████████████████| 46/46 [00:03<00:00, 11.93it/s]\n",
      "100%|██████████████████████████████████| 46/46 [00:02<00:00, 12.64it/s]\n"
     ]
    },
    {
     "name": "stdout",
     "output_type": "stream",
     "text": [
      "Seq Len: 4 | 10812 1469 1289\n",
      "0.0022267553726570896 0.013330972838065669 0.02579932087923073\n"
     ]
    },
    {
     "name": "stderr",
     "output_type": "stream",
     "text": [
      "100%|████████████████████████████████| 365/365 [00:23<00:00, 16.27it/s]\n",
      "100%|██████████████████████████████████| 46/46 [00:03<00:00, 12.17it/s]\n",
      "100%|██████████████████████████████████| 46/46 [00:02<00:00, 12.79it/s]\n"
     ]
    },
    {
     "name": "stdout",
     "output_type": "stream",
     "text": [
      "Seq Len: 5 | 10450 1424 1243\n",
      "0.0029926301964289695 0.01426557975676836 0.026590596879554035\n"
     ]
    },
    {
     "name": "stderr",
     "output_type": "stream",
     "text": [
      "100%|████████████████████████████████| 365/365 [00:22<00:00, 16.92it/s]\n",
      "100%|██████████████████████████████████| 46/46 [00:03<00:00, 12.62it/s]\n",
      "100%|██████████████████████████████████| 46/46 [00:02<00:00, 17.22it/s]\n"
     ]
    },
    {
     "name": "stdout",
     "output_type": "stream",
     "text": [
      "Seq Len: 6 | 10097 1379 1199\n",
      "0.003554995449307937 0.01513009925625881 0.027250925180963146\n"
     ]
    }
   ],
   "source": [
    "for seq_len in seqences_we_want:\n",
    "    \n",
    "    x_train, y_train, order_train_mean = data_generation(df_mean, train_patient_mean, seq_len, trn_scaler_mean, hb_scaler_mean)\n",
    "    x_valid, y_valid, order_valid_mean = data_generation(df_mean, valid_patient_mean, seq_len, trn_scaler_mean, hb_scaler_mean)\n",
    "    x_test, y_test, order_test_mean = data_generation(df_mean, test_patient_mean, seq_len, trn_scaler_mean, hb_scaler_mean)  \n",
    "    \n",
    "    print('Seq Len:', seq_len, '|', len(order_train_mean), len(order_valid_mean), len(order_test_mean))\n",
    "    print(np.mean(x_train),np.mean(x_valid),np.mean(x_test))\n",
    "\n",
    "    with open('./mean1_'+str(seq_len)+'.pkl','wb') as f:\n",
    "        pkl.dump([[x_train,y_train, order_train_mean],[x_valid,y_valid, order_valid_mean],[x_test,y_test, order_test_mean]], f)"
   ]
  },
  {
   "cell_type": "code",
   "execution_count": null,
   "metadata": {},
   "outputs": [],
   "source": [
    "# 100%|████████████████████████████████| 365/365 [00:26<00:00, 14.26it/s]\n",
    "# 100%|██████████████████████████████████| 46/46 [00:03<00:00, 11.04it/s]\n",
    "# 100%|██████████████████████████████████| 46/46 [00:03<00:00, 11.61it/s]\n",
    "# Seq Len: 1 | 11905 1607 1427\n",
    "# 2.1426698205617468e-16 0.010053204386681159 0.022461285759866594\n",
    "# 100%|████████████████████████████████| 365/365 [00:25<00:00, 14.74it/s]\n",
    "# 100%|██████████████████████████████████| 46/46 [00:03<00:00, 11.34it/s]\n",
    "# 100%|██████████████████████████████████| 46/46 [00:03<00:00, 11.89it/s]\n",
    "# Seq Len: 2 | 11540 1561 1381\n",
    "# 0.0005188433198703588 0.010919453902401746 0.023464539942196567\n",
    "# 100%|████████████████████████████████| 365/365 [00:24<00:00, 15.18it/s]\n",
    "# 100%|██████████████████████████████████| 46/46 [00:03<00:00, 11.59it/s]\n",
    "# 100%|██████████████████████████████████| 46/46 [00:02<00:00, 12.16it/s]\n",
    "# Seq Len: 3 | 11175 1515 1335\n",
    "# 0.0014592547223939933 0.012005632612291242 0.024823530733559716\n",
    "# 100%|████████████████████████████████| 365/365 [00:24<00:00, 15.78it/s]\n",
    "# 100%|██████████████████████████████████| 46/46 [00:03<00:00, 11.93it/s]\n",
    "# 100%|██████████████████████████████████| 46/46 [00:02<00:00, 12.64it/s]\n",
    "# Seq Len: 4 | 10812 1469 1289\n",
    "# 0.0022267553726570896 0.013330972838065669 0.02579932087923073\n",
    "# 100%|████████████████████████████████| 365/365 [00:23<00:00, 16.27it/s]\n",
    "# 100%|██████████████████████████████████| 46/46 [00:03<00:00, 12.17it/s]\n",
    "# 100%|██████████████████████████████████| 46/46 [00:02<00:00, 12.79it/s]\n",
    "# Seq Len: 5 | 10450 1424 1243\n",
    "# 0.0029926301964289695 0.01426557975676836 0.026590596879554035\n",
    "# 100%|████████████████████████████████| 365/365 [00:22<00:00, 16.92it/s]\n",
    "# 100%|██████████████████████████████████| 46/46 [00:03<00:00, 12.62it/s]\n",
    "# 100%|██████████████████████████████████| 46/46 [00:02<00:00, 17.22it/s]\n",
    "# Seq Len: 6 | 10097 1379 1199\n",
    "# 0.003554995449307937 0.01513009925625881 0.027250925180963146"
   ]
  },
  {
   "cell_type": "code",
   "execution_count": null,
   "metadata": {},
   "outputs": [],
   "source": []
  }
 ],
 "metadata": {
  "kernelspec": {
   "display_name": "Python 3",
   "language": "python",
   "name": "python3"
  },
  "language_info": {
   "codemirror_mode": {
    "name": "ipython",
    "version": 3
   },
   "file_extension": ".py",
   "mimetype": "text/x-python",
   "name": "python",
   "nbconvert_exporter": "python",
   "pygments_lexer": "ipython3",
   "version": "3.6.8"
  }
 },
 "nbformat": 4,
 "nbformat_minor": 4
}
