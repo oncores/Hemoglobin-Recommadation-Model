{
 "cells": [
  {
   "cell_type": "code",
   "execution_count": 1,
   "metadata": {},
   "outputs": [],
   "source": [
    "import pandas as pd\n",
    "import numpy as np\n",
    "import re\n",
    "import time\n",
    "from datetime import datetime\n",
    "import pickle as pkl\n",
    "from collections import Counter\n",
    "from sklearn.model_selection import train_test_split\n",
    "import matplotlib.pyplot as plt\n",
    "from sklearn.preprocessing import scale\n",
    "pd.set_option('display.max_columns', 500)"
   ]
  },
  {
   "cell_type": "markdown",
   "metadata": {},
   "source": [
    "## Merge datasheet"
   ]
  },
  {
   "cell_type": "code",
   "execution_count": 2,
   "metadata": {},
   "outputs": [
    {
     "name": "stderr",
     "output_type": "stream",
     "text": [
      "C:\\Users\\GB\\Anaconda3\\lib\\site-packages\\ipykernel_launcher.py:44: SettingWithCopyWarning: \n",
      "A value is trying to be set on a copy of a slice from a DataFrame\n",
      "\n",
      "See the caveats in the documentation: http://pandas.pydata.org/pandas-docs/stable/indexing.html#indexing-view-versus-copy\n"
     ]
    }
   ],
   "source": [
    "def convert_date(date_str):\n",
    "    date_format = \"%Y-%m-%d\"\n",
    "    return datetime.strptime(str(date_str), date_format)\n",
    "\n",
    "subject_info = pd.read_excel(\"Anemia variable (2018.11.16)_수정(190523).xlsx\", sheet_name=0, header=0)\n",
    "\n",
    "medication_info = pd.read_excel(\"Anemia variable (2018.11.16)_수정(190523).xlsx\", sheet_name=1, header=0)\n",
    "\n",
    "medication_info.columns.values[medication_info.columns.values=='순(NET)여과량'] = 'Ultrafilteration Volume'\n",
    "\n",
    "medication_info['Study_Subject_Number'] = medication_info['Study_Subject_Number'].ffill()\n",
    "\n",
    "medication_info['Date'] = [convert_date(val) if type(val)==str else val for val in medication_info['Date'].values]\n",
    "\n",
    "data = pd.merge(subject_info, medication_info, left_on='Subject No.', right_on='Study_Subject_Number', how='outer')\n",
    "\n",
    "# EPO = darne + 4/3*epoetin + 1/200*erythropietin \n",
    "data['EPO_Dose'] = data['Dose_Darbepoetin-alpha'] + 4/3*data['Dose_Epoetin-beta'] + 1/200*(data['Dose_Erythropoietin-alpha'] + data['Dose_Erythropoietin-alpha.1'])\n",
    "\n",
    "data = pd.concat([data, pd.get_dummies(data['Sex'], prefix='Sex')], axis=1)\n",
    "\n",
    "data = data[data['Transfusion']==0]\n",
    "\n",
    "data = data[np.invert(data['Study_Subject_Number'].isnull())]\n",
    "\n",
    "# Remove C \n",
    "group = []\n",
    "for i, c in enumerate(data['Study_Subject_Number']):\n",
    "    try:\n",
    "        group.append(re.sub('[-0-9]', '',c))\n",
    "    except:\n",
    "        print(i)\n",
    "group = np.array(group)\n",
    "data = data[group!='C']\n",
    "\n",
    "# Remove NAs in Height \n",
    "for p in np.unique(data['Study_Subject_Number'][np.isnan(data['Height (cm)'].values)]):\n",
    "    data = data[data['Study_Subject_Number']!=p]\n",
    "\n",
    "# EPO Adjustment\n",
    "indexes = np.unique(data['Study_Subject_Number'].values, return_index=True)[1]\n",
    "patient_list = [data['Study_Subject_Number'].values[index] for index in sorted(indexes)]\n",
    "for p in patient_list:\n",
    "    data['EPO_Dose'][data['Study_Subject_Number']==p] = np.array(data['EPO_Dose'][data['Study_Subject_Number']==p][1:].values.tolist() + [0.0])\n",
    "\n",
    "data = data[['Study_Subject_Number', 'Order', \n",
    "             'Age (yrs)', 'Sex_M', 'Sex_F', 'Height (cm)',\n",
    "           'Date',\n",
    "           'SBP_start(mmHg)', 'SBP_End(mmHg)', 'Dry Weight',\n",
    "           'Predialysis Weight',\n",
    "           'Post_dialysis Weight',\n",
    "           'Ultrafilteration Volume',\n",
    "           'Hct[Whole blood]', 'MCV[Whole blood]', 'MCHC[Whole blood]',\n",
    "           'MCH[Whole blood]', 'RDW[Whole blood]', 'MPV[Whole blood]',\n",
    "           'PLT Count[Whole blood]', 'WBC COUNT[Whole blood]',\n",
    "           'Calcium[Serum]', 'Inorganic P[Serum]', 'Glucose[Serum]',\n",
    "           'Total Protein[Serum]', 'Albumin[Serum]', 'Creatinine[Serum]',\n",
    "           'Uric Acid[Serum]', 'Serum Iron[Serum]', 'URR[Serum]',\n",
    "           'EPO_Dose', 'Hemoglobin[Whole blood]']]  \n",
    "\n",
    "data.to_excel('merged_data.xlsx', index=False)"
   ]
  },
  {
   "cell_type": "markdown",
   "metadata": {},
   "source": [
    "# Preprocess"
   ]
  },
  {
   "cell_type": "code",
   "execution_count": 3,
   "metadata": {},
   "outputs": [],
   "source": [
    "df = pd.read_excel(\"merged_data.xlsx\", sheet_name=0, header=0)"
   ]
  },
  {
   "cell_type": "code",
   "execution_count": 4,
   "metadata": {},
   "outputs": [
    {
     "data": {
      "text/plain": [
       "Study_Subject_Number          0\n",
       "Order                         0\n",
       "Age (yrs)                     0\n",
       "Sex_M                         0\n",
       "Sex_F                         0\n",
       "Height (cm)                   0\n",
       "Date                          0\n",
       "SBP_start(mmHg)               0\n",
       "SBP_End(mmHg)               212\n",
       "Dry Weight                   60\n",
       "Predialysis Weight            9\n",
       "Post_dialysis Weight        113\n",
       "Ultrafilteration Volume       8\n",
       "Hct[Whole blood]              3\n",
       "MCV[Whole blood]            190\n",
       "MCHC[Whole blood]           190\n",
       "MCH[Whole blood]            190\n",
       "RDW[Whole blood]             71\n",
       "MPV[Whole blood]            172\n",
       "PLT Count[Whole blood]      142\n",
       "WBC COUNT[Whole blood]        3\n",
       "Calcium[Serum]               81\n",
       "Inorganic P[Serum]           92\n",
       "Glucose[Serum]              106\n",
       "Total Protein[Serum]         70\n",
       "Albumin[Serum]               63\n",
       "Creatinine[Serum]            53\n",
       "Uric Acid[Serum]            111\n",
       "Serum Iron[Serum]          5445\n",
       "URR[Serum]                 3021\n",
       "EPO_Dose                      0\n",
       "Hemoglobin[Whole blood]       0\n",
       "dtype: int64"
      ]
     },
     "execution_count": 4,
     "metadata": {},
     "output_type": "execute_result"
    }
   ],
   "source": [
    "df.isnull().sum()"
   ]
  },
  {
   "cell_type": "code",
   "execution_count": 5,
   "metadata": {},
   "outputs": [
    {
     "data": {
      "text/plain": [
       "20165"
      ]
     },
     "execution_count": 5,
     "metadata": {},
     "output_type": "execute_result"
    }
   ],
   "source": [
    "len(df)"
   ]
  },
  {
   "cell_type": "code",
   "execution_count": null,
   "metadata": {},
   "outputs": [],
   "source": []
  },
  {
   "cell_type": "markdown",
   "metadata": {},
   "source": [
    "# Variable Preprocessing"
   ]
  },
  {
   "cell_type": "code",
   "execution_count": 6,
   "metadata": {},
   "outputs": [
    {
     "data": {
      "text/plain": [
       "592"
      ]
     },
     "execution_count": 6,
     "metadata": {},
     "output_type": "execute_result"
    }
   ],
   "source": [
    "indexes = np.unique(df['Study_Subject_Number'].values, return_index=True)[1]\n",
    "patient_list = [df['Study_Subject_Number'].values[index] for index in sorted(indexes)]\n",
    "len(patient_list)"
   ]
  },
  {
   "cell_type": "code",
   "execution_count": 7,
   "metadata": {},
   "outputs": [],
   "source": [
    "info_vars = ['Study_Subject_Number', 'Order'] \n",
    "\n",
    "categoryA = [\"Hemoglobin[Whole blood]\", \"RDW[Whole blood]\", \"MCV[Whole blood]\", \"MCH[Whole blood]\", \"MCHC[Whole blood]\", \"Serum Iron[Serum]\", \"Age (yrs)\", \"Sex_M\", \"Sex_F\", 'EPO_Dose']\n",
    "\n",
    "categoryB = [\"URR[Serum]\", 'Dry Weight', 'Albumin[Serum]', 'Predialysis Weight', 'Height (cm)']\n",
    "\n",
    "trn_vars = categoryA + categoryB\n",
    "\n",
    "all_vars = info_vars + trn_vars"
   ]
  },
  {
   "cell_type": "code",
   "execution_count": 8,
   "metadata": {},
   "outputs": [
    {
     "data": {
      "text/plain": [
       "17"
      ]
     },
     "execution_count": 8,
     "metadata": {},
     "output_type": "execute_result"
    }
   ],
   "source": [
    "len(all_vars)"
   ]
  },
  {
   "cell_type": "code",
   "execution_count": 9,
   "metadata": {},
   "outputs": [],
   "source": [
    "target_hb = []\n",
    "delta_hb = []\n",
    "date_diff = []\n",
    "for p in patient_list:\n",
    "    temp = df[df['Study_Subject_Number']==p]\n",
    "    target_hb.extend(temp[\"Hemoglobin[Whole blood]\"].values[1:].tolist()+[np.nan])\n",
    "    delta_hb.extend([np.nan]+np.abs(temp[\"Hemoglobin[Whole blood]\"].values[:-1]-temp[\"Hemoglobin[Whole blood]\"].values[1:]).tolist())\n",
    "    date_diff.extend((pd.to_datetime(temp[\"Date\"][1:].values) -  pd.to_datetime(temp[\"Date\"][:-1].values)).days.tolist()+[np.nan])\n",
    "\n",
    "df['Date_diff'] = date_diff\n",
    "df['Target_Hb'] = target_hb\n",
    "df['Delta_Hb'] = delta_hb\n",
    "\n",
    "df.drop(df[df['Target_Hb'].isna()].index, axis=0, inplace=True)\n",
    "df.drop(df[df['Delta_Hb'].isna()].index, axis=0, inplace=True)\n",
    "df.index = list(range(len(df)))"
   ]
  },
  {
   "cell_type": "code",
   "execution_count": null,
   "metadata": {},
   "outputs": [],
   "source": []
  },
  {
   "cell_type": "code",
   "execution_count": null,
   "metadata": {},
   "outputs": [],
   "source": []
  },
  {
   "cell_type": "markdown",
   "metadata": {},
   "source": [
    "# 'Hemoglobin[Whole blood]'"
   ]
  },
  {
   "cell_type": "code",
   "execution_count": 10,
   "metadata": {},
   "outputs": [
    {
     "data": {
      "text/plain": [
       "'Hemoglobin[Whole blood]'"
      ]
     },
     "execution_count": 10,
     "metadata": {},
     "output_type": "execute_result"
    }
   ],
   "source": [
    "var = trn_vars[0]\n",
    "var"
   ]
  },
  {
   "cell_type": "code",
   "execution_count": 11,
   "metadata": {},
   "outputs": [
    {
     "data": {
      "image/png": "[encoded data removed]",
      "text/plain": [
       "<Figure size 432x288 with 1 Axes>"
      ]
     },
     "metadata": {
      "needs_background": "light"
     },
     "output_type": "display_data"
    },
    {
     "name": "stdout",
     "output_type": "stream",
     "text": [
      "[ 6.4  8.   8.2  9.4 10.1 10.7 11.5 12.9 14.  14.6 18.6]\n"
     ]
    }
   ],
   "source": [
    "plt.hist(df[var].values, bins=200)\n",
    "plt.show()\n",
    "print(np.percentile(df[var].values[np.invert(np.isnan(df[var].values))], q=[0, 0.5, 1, 10, 25,50,75,95,99,99.5,100]))"
   ]
  },
  {
   "cell_type": "code",
   "execution_count": 12,
   "metadata": {},
   "outputs": [
    {
     "name": "stdout",
     "output_type": "stream",
     "text": [
      "[6.4 6.4 6.8 6.8 6.9 6.9 6.9 6.9 7.  7. ]\n",
      "[16.  16.  16.6 17.  17.2 17.2 17.7 17.9 18.1 18.6]\n"
     ]
    }
   ],
   "source": [
    "print(np.sort(df[var].values[np.invert(np.isnan(df[var].values))])[:10])\n",
    "print(np.sort(df[var].values[np.invert(np.isnan(df[var].values))])[-10:])"
   ]
  },
  {
   "cell_type": "code",
   "execution_count": 13,
   "metadata": {},
   "outputs": [
    {
     "data": {
      "text/plain": [
       "3633    E-091\n",
       "3634    E-091\n",
       "3635    E-091\n",
       "3636    E-091\n",
       "3637    E-091\n",
       "3638    E-091\n",
       "3639    E-091\n",
       "3640    E-091\n",
       "Name: Study_Subject_Number, dtype: object"
      ]
     },
     "execution_count": 13,
     "metadata": {},
     "output_type": "execute_result"
    }
   ],
   "source": [
    "df['Study_Subject_Number'][df[var] > 16] "
   ]
  },
  {
   "cell_type": "code",
   "execution_count": 14,
   "metadata": {},
   "outputs": [],
   "source": [
    "df = df[df['Study_Subject_Number']!='E-091']"
   ]
  },
  {
   "cell_type": "code",
   "execution_count": 15,
   "metadata": {},
   "outputs": [
    {
     "data": {
      "image/png": "[encoded data removed]",
      "text/plain": [
       "<Figure size 432x288 with 1 Axes>"
      ]
     },
     "metadata": {
      "needs_background": "light"
     },
     "output_type": "display_data"
    },
    {
     "name": "stdout",
     "output_type": "stream",
     "text": [
      "[ 6.4  8.   8.2  9.4 10.1 10.7 11.5 12.9 14.  14.5 16. ]\n"
     ]
    }
   ],
   "source": [
    "plt.hist(df[var].values, bins=200)\n",
    "plt.show()\n",
    "print(np.percentile(df[var].values[np.invert(np.isnan(df[var].values))], q=[0, 0.5, 1, 10, 25,50,75,95,99,99.5,100]))"
   ]
  },
  {
   "cell_type": "code",
   "execution_count": 16,
   "metadata": {},
   "outputs": [
    {
     "data": {
      "text/plain": [
       "2460     E-015\n",
       "16836    A-064\n",
       "Name: Study_Subject_Number, dtype: object"
      ]
     },
     "execution_count": 16,
     "metadata": {},
     "output_type": "execute_result"
    }
   ],
   "source": [
    "df['Study_Subject_Number'][df[var] <= 6.5] "
   ]
  },
  {
   "cell_type": "code",
   "execution_count": 17,
   "metadata": {},
   "outputs": [
    {
     "data": {
      "text/plain": [
       "2460     6.4\n",
       "16836    6.4\n",
       "Name: Hemoglobin[Whole blood], dtype: float64"
      ]
     },
     "execution_count": 17,
     "metadata": {},
     "output_type": "execute_result"
    }
   ],
   "source": [
    "df[var][df[var] <= 6.5] "
   ]
  },
  {
   "cell_type": "code",
   "execution_count": 18,
   "metadata": {},
   "outputs": [],
   "source": [
    "for p in df['Study_Subject_Number'][df[var] <= 6.5].values:\n",
    "    df = df[df['Study_Subject_Number']!=p]"
   ]
  },
  {
   "cell_type": "code",
   "execution_count": 19,
   "metadata": {},
   "outputs": [
    {
     "data": {
      "image/png": "[encoded data removed]",
      "text/plain": [
       "<Figure size 432x288 with 1 Axes>"
      ]
     },
     "metadata": {
      "needs_background": "light"
     },
     "output_type": "display_data"
    },
    {
     "name": "stdout",
     "output_type": "stream",
     "text": [
      "[ 6.8    8.     8.3    9.4   10.1   10.7   11.5   12.895 14.    14.5\n",
      " 16.   ]\n"
     ]
    }
   ],
   "source": [
    "plt.hist(df[var].values, bins=200)\n",
    "plt.show()\n",
    "print(np.percentile(df[var].values[np.invert(np.isnan(df[var].values))], q=[0, 0.5, 1, 10, 25,50,75,95,99,99.5,100]))"
   ]
  },
  {
   "cell_type": "code",
   "execution_count": 20,
   "metadata": {},
   "outputs": [
    {
     "data": {
      "image/png": "[encoded data removed]",
      "text/plain": [
       "<Figure size 432x288 with 1 Axes>"
      ]
     },
     "metadata": {
      "needs_background": "light"
     },
     "output_type": "display_data"
    }
   ],
   "source": [
    "plt.hist(df.groupby('Study_Subject_Number')[var].mean(), bins=200)\n",
    "plt.show()"
   ]
  },
  {
   "cell_type": "code",
   "execution_count": 21,
   "metadata": {},
   "outputs": [
    {
     "data": {
      "text/plain": [
       "Study_Subject_Number\n",
       "F-063    6.9\n",
       "Name: Hemoglobin[Whole blood], dtype: float64"
      ]
     },
     "execution_count": 21,
     "metadata": {},
     "output_type": "execute_result"
    }
   ],
   "source": [
    "df.groupby('Study_Subject_Number')[var].mean()[df.groupby('Study_Subject_Number')[var].mean() < 8]"
   ]
  },
  {
   "cell_type": "code",
   "execution_count": 22,
   "metadata": {},
   "outputs": [],
   "source": [
    "df = df[df['Study_Subject_Number']!='F-063']"
   ]
  },
  {
   "cell_type": "code",
   "execution_count": 23,
   "metadata": {},
   "outputs": [
    {
     "data": {
      "text/plain": [
       "Study_Subject_Number\n",
       "B-081    13.578571\n",
       "G-090    14.486667\n",
       "G-200    14.100000\n",
       "Name: Hemoglobin[Whole blood], dtype: float64"
      ]
     },
     "execution_count": 23,
     "metadata": {},
     "output_type": "execute_result"
    }
   ],
   "source": [
    "df.groupby('Study_Subject_Number')[var].mean()[df.groupby('Study_Subject_Number')[var].mean() > 13.5]"
   ]
  },
  {
   "cell_type": "code",
   "execution_count": 24,
   "metadata": {},
   "outputs": [],
   "source": [
    "df = df[df['Study_Subject_Number']!='G-090']\n",
    "df = df[df['Study_Subject_Number']!='G-200']"
   ]
  },
  {
   "cell_type": "code",
   "execution_count": 25,
   "metadata": {},
   "outputs": [
    {
     "data": {
      "image/png": "[encoded data removed]",
      "text/plain": [
       "<Figure size 432x288 with 1 Axes>"
      ]
     },
     "metadata": {
      "needs_background": "light"
     },
     "output_type": "display_data"
    }
   ],
   "source": [
    "plt.hist(df.groupby('Study_Subject_Number')[var].mean(), bins=200)\n",
    "plt.show()"
   ]
  },
  {
   "cell_type": "code",
   "execution_count": 26,
   "metadata": {},
   "outputs": [
    {
     "data": {
      "text/plain": [
       "Study_Subject_Number\n",
       "A-146    8.600\n",
       "A-167    8.575\n",
       "D-124    8.700\n",
       "E-024    8.700\n",
       "H-002    8.675\n",
       "Name: Hemoglobin[Whole blood], dtype: float64"
      ]
     },
     "execution_count": 26,
     "metadata": {},
     "output_type": "execute_result"
    }
   ],
   "source": [
    "df.groupby('Study_Subject_Number')[var].mean()[df.groupby('Study_Subject_Number')[var].mean() < 9]"
   ]
  },
  {
   "cell_type": "code",
   "execution_count": 27,
   "metadata": {},
   "outputs": [
    {
     "name": "stderr",
     "output_type": "stream",
     "text": [
      "C:\\Users\\GB\\Anaconda3\\lib\\site-packages\\numpy\\lib\\histograms.py:824: RuntimeWarning: invalid value encountered in greater_equal\n",
      "  keep = (tmp_a >= first_edge)\n",
      "C:\\Users\\GB\\Anaconda3\\lib\\site-packages\\numpy\\lib\\histograms.py:825: RuntimeWarning: invalid value encountered in less_equal\n",
      "  keep &= (tmp_a <= last_edge)\n"
     ]
    },
    {
     "data": {
      "image/png": "[encoded data removed]",
      "text/plain": [
       "<Figure size 432x288 with 1 Axes>"
      ]
     },
     "metadata": {
      "needs_background": "light"
     },
     "output_type": "display_data"
    }
   ],
   "source": [
    "plt.hist(df.groupby('Study_Subject_Number')[var].var(), bins=200)\n",
    "plt.show()"
   ]
  },
  {
   "cell_type": "code",
   "execution_count": 28,
   "metadata": {},
   "outputs": [
    {
     "data": {
      "text/plain": [
       "Study_Subject_Number\n",
       "A-013    3.503000\n",
       "A-111    2.992889\n",
       "A-156    3.010000\n",
       "A-172    3.105000\n",
       "E-007    4.270000\n",
       "E-023    5.004889\n",
       "F-098    2.795000\n",
       "G-030    2.674667\n",
       "G-031    3.765880\n",
       "H-014    3.008517\n",
       "Name: Hemoglobin[Whole blood], dtype: float64"
      ]
     },
     "execution_count": 28,
     "metadata": {},
     "output_type": "execute_result"
    }
   ],
   "source": [
    "df.groupby('Study_Subject_Number')[var].var()[df.groupby('Study_Subject_Number')[var].var() > 2.5]"
   ]
  },
  {
   "cell_type": "code",
   "execution_count": 29,
   "metadata": {},
   "outputs": [],
   "source": [
    "for p in df.groupby('Study_Subject_Number')[var].var()[df.groupby('Study_Subject_Number')[var].var() > 2.5].index.values:\n",
    "    df = df[df['Study_Subject_Number']!=p]"
   ]
  },
  {
   "cell_type": "code",
   "execution_count": 30,
   "metadata": {},
   "outputs": [
    {
     "data": {
      "image/png": "[encoded data removed]",
      "text/plain": [
       "<Figure size 432x288 with 1 Axes>"
      ]
     },
     "metadata": {
      "needs_background": "light"
     },
     "output_type": "display_data"
    }
   ],
   "source": [
    "plt.hist(df.groupby('Study_Subject_Number')[var].var(), bins=200)\n",
    "plt.show()"
   ]
  },
  {
   "cell_type": "code",
   "execution_count": null,
   "metadata": {},
   "outputs": [],
   "source": []
  },
  {
   "cell_type": "code",
   "execution_count": null,
   "metadata": {},
   "outputs": [],
   "source": []
  },
  {
   "cell_type": "markdown",
   "metadata": {},
   "source": [
    "# EPO DOSE"
   ]
  },
  {
   "cell_type": "code",
   "execution_count": 31,
   "metadata": {},
   "outputs": [
    {
     "data": {
      "text/plain": [
       "'EPO_Dose'"
      ]
     },
     "execution_count": 31,
     "metadata": {},
     "output_type": "execute_result"
    }
   ],
   "source": [
    "var = trn_vars[9]\n",
    "var"
   ]
  },
  {
   "cell_type": "code",
   "execution_count": 32,
   "metadata": {},
   "outputs": [
    {
     "data": {
      "image/png": "[encoded data removed]",
      "text/plain": [
       "<Figure size 432x288 with 1 Axes>"
      ]
     },
     "metadata": {
      "needs_background": "light"
     },
     "output_type": "display_data"
    },
    {
     "name": "stdout",
     "output_type": "stream",
     "text": [
      "[   0.    0.    0.    0.    0.   90.  200.  450.  680.  750. 1625.]\n"
     ]
    }
   ],
   "source": [
    "plt.hist(df[var].values, bins=200)\n",
    "plt.show()\n",
    "print(np.percentile(df[var].values[np.invert(np.isnan(df[var].values))], q=[0, 0.5, 1, 10, 25,50,75,95,99,99.5,100]))"
   ]
  },
  {
   "cell_type": "code",
   "execution_count": 33,
   "metadata": {},
   "outputs": [
    {
     "name": "stdout",
     "output_type": "stream",
     "text": [
      "[0. 0. 0. 0. 0. 0. 0. 0. 0. 0.]\n",
      "[1080. 1080. 1080. 1080. 1080. 1080. 1120. 1200. 1260. 1625.]\n"
     ]
    }
   ],
   "source": [
    "print(np.sort(df[var].values[np.invert(np.isnan(df[var].values))])[:10])\n",
    "print(np.sort(df[var].values[np.invert(np.isnan(df[var].values))])[-10:])"
   ]
  },
  {
   "cell_type": "code",
   "execution_count": 34,
   "metadata": {},
   "outputs": [
    {
     "data": {
      "text/plain": [
       "73"
      ]
     },
     "execution_count": 34,
     "metadata": {},
     "output_type": "execute_result"
    }
   ],
   "source": [
    "len(df['Study_Subject_Number'][df[var] >= 800])"
   ]
  },
  {
   "cell_type": "code",
   "execution_count": 35,
   "metadata": {},
   "outputs": [],
   "source": [
    "for p in df['Study_Subject_Number'][df[var] >= 800].values:\n",
    "    df = df[df['Study_Subject_Number']!=p]"
   ]
  },
  {
   "cell_type": "code",
   "execution_count": 36,
   "metadata": {},
   "outputs": [
    {
     "data": {
      "image/png": "[encoded data removed]",
      "text/plain": [
       "<Figure size 432x288 with 1 Axes>"
      ]
     },
     "metadata": {
      "needs_background": "light"
     },
     "output_type": "display_data"
    }
   ],
   "source": [
    "plt.hist(df.groupby('Study_Subject_Number')[var].mean(), bins=200)\n",
    "plt.show()"
   ]
  },
  {
   "cell_type": "code",
   "execution_count": 37,
   "metadata": {},
   "outputs": [
    {
     "data": {
      "text/plain": [
       "Study_Subject_Number\n",
       "A-018    750.0\n",
       "Name: EPO_Dose, dtype: float64"
      ]
     },
     "execution_count": 37,
     "metadata": {},
     "output_type": "execute_result"
    }
   ],
   "source": [
    "df.groupby('Study_Subject_Number')[var].mean()[df.groupby('Study_Subject_Number')[var].mean() > 500]"
   ]
  },
  {
   "cell_type": "code",
   "execution_count": 38,
   "metadata": {},
   "outputs": [],
   "source": [
    "df = df[df['Study_Subject_Number']!='A-018']"
   ]
  },
  {
   "cell_type": "code",
   "execution_count": 39,
   "metadata": {},
   "outputs": [
    {
     "data": {
      "image/png": "[encoded data removed]",
      "text/plain": [
       "<Figure size 432x288 with 1 Axes>"
      ]
     },
     "metadata": {
      "needs_background": "light"
     },
     "output_type": "display_data"
    }
   ],
   "source": [
    "plt.hist(df.groupby('Study_Subject_Number')[var].var(), bins=200)\n",
    "plt.show()"
   ]
  },
  {
   "cell_type": "code",
   "execution_count": 40,
   "metadata": {},
   "outputs": [
    {
     "data": {
      "text/plain": [
       "Study_Subject_Number\n",
       "A-005    51680.000000\n",
       "A-037    60247.619048\n",
       "A-038    77500.000000\n",
       "A-041    68830.000000\n",
       "A-043    77091.666667\n",
       "A-045    41125.831821\n",
       "A-092    41946.606335\n",
       "A-100    47112.380952\n",
       "A-128    44951.515152\n",
       "B-014    55440.418935\n",
       "F-022    42390.151515\n",
       "F-036    47857.142857\n",
       "F-079    63176.666667\n",
       "G-018    41358.333333\n",
       "G-042    52006.593407\n",
       "G-050    40372.300363\n",
       "G-061    49610.738052\n",
       "G-065    49819.444444\n",
       "G-068    42636.000000\n",
       "G-078    39654.285714\n",
       "G-093    65849.090909\n",
       "G-106    42136.453202\n",
       "G-139    47958.371878\n",
       "G-197    42287.719298\n",
       "G-209    43412.380952\n",
       "G-253    65877.777778\n",
       "G-273    52269.444444\n",
       "Name: EPO_Dose, dtype: float64"
      ]
     },
     "execution_count": 40,
     "metadata": {},
     "output_type": "execute_result"
    }
   ],
   "source": [
    "df.groupby('Study_Subject_Number')[var].var()[df.groupby('Study_Subject_Number')[var].var() > 39000]"
   ]
  },
  {
   "cell_type": "code",
   "execution_count": null,
   "metadata": {},
   "outputs": [],
   "source": []
  },
  {
   "cell_type": "code",
   "execution_count": null,
   "metadata": {},
   "outputs": [],
   "source": []
  },
  {
   "cell_type": "code",
   "execution_count": null,
   "metadata": {},
   "outputs": [],
   "source": []
  },
  {
   "cell_type": "code",
   "execution_count": null,
   "metadata": {},
   "outputs": [],
   "source": []
  },
  {
   "cell_type": "markdown",
   "metadata": {},
   "source": [
    "# 'RDW[Whole blood]'"
   ]
  },
  {
   "cell_type": "code",
   "execution_count": 41,
   "metadata": {},
   "outputs": [
    {
     "data": {
      "text/plain": [
       "'RDW[Whole blood]'"
      ]
     },
     "execution_count": 41,
     "metadata": {},
     "output_type": "execute_result"
    }
   ],
   "source": [
    "var = trn_vars[1]\n",
    "var"
   ]
  },
  {
   "cell_type": "code",
   "execution_count": 42,
   "metadata": {},
   "outputs": [
    {
     "data": {
      "image/png": "[encoded data removed]",
      "text/plain": [
       "<Figure size 432x288 with 1 Axes>"
      ]
     },
     "metadata": {
      "needs_background": "light"
     },
     "output_type": "display_data"
    },
    {
     "name": "stdout",
     "output_type": "stream",
     "text": [
      "[10.9 11.9 12.  12.9 13.5 14.3 15.2 17.  18.7 19.2 27.3]\n"
     ]
    }
   ],
   "source": [
    "plt.hist(df[var].values, bins=200)\n",
    "plt.show()\n",
    "print(np.percentile(df[var].values[np.invert(np.isnan(df[var].values))], q=[0, 0.5, 1, 10, 25,50,75,95,99,99.5,100]))"
   ]
  },
  {
   "cell_type": "code",
   "execution_count": 43,
   "metadata": {},
   "outputs": [
    {
     "name": "stdout",
     "output_type": "stream",
     "text": [
      "[10.9 11.  11.1 11.1 11.2 11.2 11.3 11.3 11.4 11.4]\n",
      "[21.4 21.4 22.9 22.9 23.  23.3 23.4 23.5 23.7 27.3]\n"
     ]
    }
   ],
   "source": [
    "print(np.sort(df[var].values[np.invert(np.isnan(df[var].values))])[:10])\n",
    "print(np.sort(df[var].values[np.invert(np.isnan(df[var].values))])[-10:])"
   ]
  },
  {
   "cell_type": "code",
   "execution_count": 44,
   "metadata": {},
   "outputs": [
    {
     "data": {
      "text/plain": [
       "1608    27.3\n",
       "Name: RDW[Whole blood], dtype: float64"
      ]
     },
     "execution_count": 44,
     "metadata": {},
     "output_type": "execute_result"
    }
   ],
   "source": [
    "df[var][df[var] >= 25]"
   ]
  },
  {
   "cell_type": "code",
   "execution_count": 45,
   "metadata": {},
   "outputs": [
    {
     "data": {
      "text/plain": [
       "1608    D-088\n",
       "Name: Study_Subject_Number, dtype: object"
      ]
     },
     "execution_count": 45,
     "metadata": {},
     "output_type": "execute_result"
    }
   ],
   "source": [
    "df['Study_Subject_Number'][df[var] >= 25]"
   ]
  },
  {
   "cell_type": "code",
   "execution_count": 46,
   "metadata": {},
   "outputs": [],
   "source": [
    "df = df[df['Study_Subject_Number']!='D-088']"
   ]
  },
  {
   "cell_type": "code",
   "execution_count": 47,
   "metadata": {},
   "outputs": [
    {
     "data": {
      "image/png": "[encoded data removed]",
      "text/plain": [
       "<Figure size 432x288 with 1 Axes>"
      ]
     },
     "metadata": {
      "needs_background": "light"
     },
     "output_type": "display_data"
    },
    {
     "name": "stdout",
     "output_type": "stream",
     "text": [
      "[10.9 11.9 12.  12.9 13.5 14.3 15.2 17.  18.7 19.2 23.7]\n"
     ]
    }
   ],
   "source": [
    "plt.hist(df[var].values, bins=200)\n",
    "plt.show()\n",
    "print(np.percentile(df[var].values[np.invert(np.isnan(df[var].values))], q=[0, 0.5, 1, 10, 25,50,75,95,99,99.5,100]))"
   ]
  },
  {
   "cell_type": "code",
   "execution_count": 48,
   "metadata": {},
   "outputs": [
    {
     "data": {
      "image/png": "[encoded data removed]",
      "text/plain": [
       "<Figure size 432x288 with 1 Axes>"
      ]
     },
     "metadata": {
      "needs_background": "light"
     },
     "output_type": "display_data"
    }
   ],
   "source": [
    "plt.hist(df.groupby('Study_Subject_Number')[var].mean(), bins=200)\n",
    "plt.show()"
   ]
  },
  {
   "cell_type": "code",
   "execution_count": 49,
   "metadata": {},
   "outputs": [
    {
     "data": {
      "image/png": "[encoded data removed]",
      "text/plain": [
       "<Figure size 432x288 with 1 Axes>"
      ]
     },
     "metadata": {
      "needs_background": "light"
     },
     "output_type": "display_data"
    }
   ],
   "source": [
    "plt.hist(df.groupby('Study_Subject_Number')[var].var(), bins=200)\n",
    "plt.show()"
   ]
  },
  {
   "cell_type": "code",
   "execution_count": 50,
   "metadata": {},
   "outputs": [
    {
     "data": {
      "text/plain": [
       "Study_Subject_Number\n",
       "A-005    6.077000\n",
       "A-090    5.199000\n",
       "B-040    4.857571\n",
       "E-026    4.828000\n",
       "E-067    5.855076\n",
       "F-043    5.340721\n",
       "H-022    6.448000\n",
       "Name: RDW[Whole blood], dtype: float64"
      ]
     },
     "execution_count": 50,
     "metadata": {},
     "output_type": "execute_result"
    }
   ],
   "source": [
    "df.groupby('Study_Subject_Number')[var].var()[df.groupby('Study_Subject_Number')[var].var() > 4.5]"
   ]
  },
  {
   "cell_type": "code",
   "execution_count": 51,
   "metadata": {},
   "outputs": [],
   "source": [
    "for p in df.groupby('Study_Subject_Number')[var].var()[df.groupby('Study_Subject_Number')[var].var() > 4.5].index.values:\n",
    "    df = df[df['Study_Subject_Number']!=p]"
   ]
  },
  {
   "cell_type": "code",
   "execution_count": null,
   "metadata": {},
   "outputs": [],
   "source": []
  },
  {
   "cell_type": "code",
   "execution_count": null,
   "metadata": {},
   "outputs": [],
   "source": []
  },
  {
   "cell_type": "markdown",
   "metadata": {},
   "source": [
    "# 'MCV[Whole blood]'"
   ]
  },
  {
   "cell_type": "code",
   "execution_count": 52,
   "metadata": {},
   "outputs": [
    {
     "data": {
      "text/plain": [
       "'MCV[Whole blood]'"
      ]
     },
     "execution_count": 52,
     "metadata": {},
     "output_type": "execute_result"
    }
   ],
   "source": [
    "var = trn_vars[2]\n",
    "var"
   ]
  },
  {
   "cell_type": "code",
   "execution_count": 53,
   "metadata": {},
   "outputs": [
    {
     "data": {
      "image/png": "[encoded data removed]",
      "text/plain": [
       "<Figure size 432x288 with 1 Axes>"
      ]
     },
     "metadata": {
      "needs_background": "light"
     },
     "output_type": "display_data"
    },
    {
     "name": "stdout",
     "output_type": "stream",
     "text": [
      "[ 75.2  82.1  83.2  88.1  91.1  94.3  97.6 102.5 107.2 109.  120.2]\n"
     ]
    }
   ],
   "source": [
    "plt.hist(df[var].values, bins=200)\n",
    "plt.show()\n",
    "print(np.percentile(df[var].values[np.invert(np.isnan(df[var].values))], q=[0, 0.5, 1, 10, 25,50,75,95,99,99.5,100]))"
   ]
  },
  {
   "cell_type": "code",
   "execution_count": 54,
   "metadata": {},
   "outputs": [
    {
     "name": "stdout",
     "output_type": "stream",
     "text": [
      "[75.2 77.8 77.9 78.5 78.6 78.9 79.2 79.2 79.5 79.8 79.8 79.8 79.9 79.9\n",
      " 80.  80.  80.1 80.3 80.3 80.3 80.4 80.4 80.4 80.4 80.5 80.5 80.5 80.6\n",
      " 80.7 80.7]\n",
      "[111.4 111.5 111.5 111.5 111.6 111.6 111.6 111.7 111.9 111.9 112.1 112.2\n",
      " 112.3 112.4 112.6 112.6 112.6 112.8 112.9 113.  113.  113.5 113.8 113.8\n",
      " 113.8 114.  114.1 114.2 114.2 120.2]\n"
     ]
    }
   ],
   "source": [
    "print(np.sort(df[var].values[np.invert(np.isnan(df[var].values))])[:30])\n",
    "print(np.sort(df[var].values[np.invert(np.isnan(df[var].values))])[-30:])"
   ]
  },
  {
   "cell_type": "code",
   "execution_count": 55,
   "metadata": {},
   "outputs": [
    {
     "data": {
      "text/plain": [
       "8716    H-008\n",
       "Name: Study_Subject_Number, dtype: object"
      ]
     },
     "execution_count": 55,
     "metadata": {},
     "output_type": "execute_result"
    }
   ],
   "source": [
    "df['Study_Subject_Number'][df[var] > 120]"
   ]
  },
  {
   "cell_type": "code",
   "execution_count": 56,
   "metadata": {},
   "outputs": [],
   "source": [
    "df = df[df['Study_Subject_Number']!='H-008']"
   ]
  },
  {
   "cell_type": "code",
   "execution_count": 57,
   "metadata": {},
   "outputs": [
    {
     "data": {
      "text/plain": [
       "18785    A-187\n",
       "Name: Study_Subject_Number, dtype: object"
      ]
     },
     "execution_count": 57,
     "metadata": {},
     "output_type": "execute_result"
    }
   ],
   "source": [
    "df['Study_Subject_Number'][df[var] < 76]"
   ]
  },
  {
   "cell_type": "code",
   "execution_count": 58,
   "metadata": {},
   "outputs": [],
   "source": [
    "df = df[df['Study_Subject_Number']!='A-187']"
   ]
  },
  {
   "cell_type": "code",
   "execution_count": 59,
   "metadata": {},
   "outputs": [
    {
     "data": {
      "image/png": "[encoded data removed]",
      "text/plain": [
       "<Figure size 432x288 with 1 Axes>"
      ]
     },
     "metadata": {
      "needs_background": "light"
     },
     "output_type": "display_data"
    },
    {
     "name": "stdout",
     "output_type": "stream",
     "text": [
      "[ 78.5     82.3     83.4     88.2     91.1     94.3     97.6    102.5\n",
      " 106.9    108.8005 114.2   ]\n"
     ]
    }
   ],
   "source": [
    "plt.hist(df[var].values, bins=200)\n",
    "plt.show()\n",
    "print(np.percentile(df[var].values[np.invert(np.isnan(df[var].values))], q=[0, 0.5, 1, 10, 25,50,75,95,99,99.5,100]))"
   ]
  },
  {
   "cell_type": "code",
   "execution_count": 60,
   "metadata": {},
   "outputs": [
    {
     "data": {
      "image/png": "[encoded data removed]",
      "text/plain": [
       "<Figure size 432x288 with 1 Axes>"
      ]
     },
     "metadata": {
      "needs_background": "light"
     },
     "output_type": "display_data"
    }
   ],
   "source": [
    "plt.hist(df.groupby('Study_Subject_Number')[var].mean(), bins=200)\n",
    "plt.show()"
   ]
  },
  {
   "cell_type": "code",
   "execution_count": 61,
   "metadata": {},
   "outputs": [
    {
     "data": {
      "image/png": "[encoded data removed]",
      "text/plain": [
       "<Figure size 432x288 with 1 Axes>"
      ]
     },
     "metadata": {
      "needs_background": "light"
     },
     "output_type": "display_data"
    }
   ],
   "source": [
    "plt.hist(df.groupby('Study_Subject_Number')[var].var(), bins=200)\n",
    "plt.show()"
   ]
  },
  {
   "cell_type": "code",
   "execution_count": 62,
   "metadata": {},
   "outputs": [
    {
     "data": {
      "text/plain": [
       "Study_Subject_Number\n",
       "A-055    26.923000\n",
       "B-069    25.991286\n",
       "B-080    33.753064\n",
       "D-032    26.515000\n",
       "D-049    29.549686\n",
       "D-058    30.888000\n",
       "D-082    28.249167\n",
       "E-083    28.119280\n",
       "G-068    26.107500\n",
       "H-032    41.258000\n",
       "Name: MCV[Whole blood], dtype: float64"
      ]
     },
     "execution_count": 62,
     "metadata": {},
     "output_type": "execute_result"
    }
   ],
   "source": [
    "df.groupby('Study_Subject_Number')[var].var()[df.groupby('Study_Subject_Number')[var].var() > 25]"
   ]
  },
  {
   "cell_type": "code",
   "execution_count": 63,
   "metadata": {},
   "outputs": [],
   "source": [
    "for p in df.groupby('Study_Subject_Number')[var].var()[df.groupby('Study_Subject_Number')[var].var() > 25].index.values:\n",
    "    df = df[df['Study_Subject_Number']!=p]"
   ]
  },
  {
   "cell_type": "code",
   "execution_count": null,
   "metadata": {},
   "outputs": [],
   "source": []
  },
  {
   "cell_type": "code",
   "execution_count": null,
   "metadata": {},
   "outputs": [],
   "source": []
  },
  {
   "cell_type": "code",
   "execution_count": null,
   "metadata": {},
   "outputs": [],
   "source": []
  },
  {
   "cell_type": "markdown",
   "metadata": {},
   "source": [
    "# 'MCH[Whole blood]'"
   ]
  },
  {
   "cell_type": "code",
   "execution_count": 64,
   "metadata": {},
   "outputs": [
    {
     "data": {
      "text/plain": [
       "'MCH[Whole blood]'"
      ]
     },
     "execution_count": 64,
     "metadata": {},
     "output_type": "execute_result"
    }
   ],
   "source": [
    "var = trn_vars[3]\n",
    "var"
   ]
  },
  {
   "cell_type": "code",
   "execution_count": 65,
   "metadata": {},
   "outputs": [
    {
     "data": {
      "image/png": "[encoded data removed]",
      "text/plain": [
       "<Figure size 432x288 with 1 Axes>"
      ]
     },
     "metadata": {
      "needs_background": "light"
     },
     "output_type": "display_data"
    },
    {
     "name": "stdout",
     "output_type": "stream",
     "text": [
      "[25.1   26.8   27.253 29.2   30.2   31.3   32.3   34.    35.3   35.9\n",
      " 39.7  ]\n"
     ]
    }
   ],
   "source": [
    "plt.hist(df[var].values, bins=200)\n",
    "plt.show()\n",
    "print(np.percentile(df[var].values[np.invert(np.isnan(df[var].values))], q=[0, 0.5, 1, 10, 25,50,75,95,99,99.5,100]))"
   ]
  },
  {
   "cell_type": "code",
   "execution_count": 66,
   "metadata": {},
   "outputs": [
    {
     "name": "stdout",
     "output_type": "stream",
     "text": [
      "[25.1 25.1 25.2 25.2 25.2 25.3 25.5 25.6 25.6 25.6]\n",
      "[37.2 37.3 37.3 37.5 37.5 37.5 37.5 37.7 37.9 39.7]\n"
     ]
    }
   ],
   "source": [
    "print(np.sort(df[var].values[np.invert(np.isnan(df[var].values))])[:10])\n",
    "print(np.sort(df[var].values[np.invert(np.isnan(df[var].values))])[-10:])"
   ]
  },
  {
   "cell_type": "code",
   "execution_count": 67,
   "metadata": {},
   "outputs": [
    {
     "data": {
      "text/plain": [
       "6370    F-010\n",
       "Name: Study_Subject_Number, dtype: object"
      ]
     },
     "execution_count": 67,
     "metadata": {},
     "output_type": "execute_result"
    }
   ],
   "source": [
    "df['Study_Subject_Number'][df[var] > 38]"
   ]
  },
  {
   "cell_type": "code",
   "execution_count": 68,
   "metadata": {},
   "outputs": [],
   "source": [
    "df = df[df['Study_Subject_Number']!='F-010']"
   ]
  },
  {
   "cell_type": "code",
   "execution_count": 69,
   "metadata": {},
   "outputs": [
    {
     "data": {
      "image/png": "[encoded data removed]",
      "text/plain": [
       "<Figure size 432x288 with 1 Axes>"
      ]
     },
     "metadata": {
      "needs_background": "light"
     },
     "output_type": "display_data"
    }
   ],
   "source": [
    "plt.hist(df.groupby('Study_Subject_Number')[var].mean(), bins=200)\n",
    "plt.show()"
   ]
  },
  {
   "cell_type": "code",
   "execution_count": 70,
   "metadata": {},
   "outputs": [
    {
     "data": {
      "image/png": "[encoded data removed]",
      "text/plain": [
       "<Figure size 432x288 with 1 Axes>"
      ]
     },
     "metadata": {
      "needs_background": "light"
     },
     "output_type": "display_data"
    }
   ],
   "source": [
    "plt.hist(df.groupby('Study_Subject_Number')[var].var(), bins=200)\n",
    "plt.show()"
   ]
  },
  {
   "cell_type": "code",
   "execution_count": 71,
   "metadata": {},
   "outputs": [
    {
     "data": {
      "text/plain": [
       "Study_Subject_Number\n",
       "A-097    3.231981\n",
       "A-121    3.142016\n",
       "D-033    3.544570\n",
       "E-001    3.151238\n",
       "F-022    3.182652\n",
       "Name: MCH[Whole blood], dtype: float64"
      ]
     },
     "execution_count": 71,
     "metadata": {},
     "output_type": "execute_result"
    }
   ],
   "source": [
    "df.groupby('Study_Subject_Number')[var].var()[df.groupby('Study_Subject_Number')[var].var() > 3.0]"
   ]
  },
  {
   "cell_type": "code",
   "execution_count": 72,
   "metadata": {},
   "outputs": [],
   "source": [
    "for p in df.groupby('Study_Subject_Number')[var].var()[df.groupby('Study_Subject_Number')[var].var() > 3.0].index.values:\n",
    "    df = df[df['Study_Subject_Number']!=p]"
   ]
  },
  {
   "cell_type": "code",
   "execution_count": null,
   "metadata": {},
   "outputs": [],
   "source": []
  },
  {
   "cell_type": "code",
   "execution_count": null,
   "metadata": {},
   "outputs": [],
   "source": []
  },
  {
   "cell_type": "markdown",
   "metadata": {},
   "source": [
    "# 'MCHC[Whole blood]'"
   ]
  },
  {
   "cell_type": "code",
   "execution_count": 73,
   "metadata": {},
   "outputs": [
    {
     "data": {
      "text/plain": [
       "'MCHC[Whole blood]'"
      ]
     },
     "execution_count": 73,
     "metadata": {},
     "output_type": "execute_result"
    }
   ],
   "source": [
    "var = trn_vars[4]\n",
    "var"
   ]
  },
  {
   "cell_type": "code",
   "execution_count": 74,
   "metadata": {},
   "outputs": [
    {
     "data": {
      "image/png": "[encoded data removed]",
      "text/plain": [
       "<Figure size 432x288 with 1 Axes>"
      ]
     },
     "metadata": {
      "needs_background": "light"
     },
     "output_type": "display_data"
    },
    {
     "name": "stdout",
     "output_type": "stream",
     "text": [
      "[28.6 30.6 30.9 31.9 32.5 33.1 33.8 34.7 35.6 35.9 37.8]\n"
     ]
    }
   ],
   "source": [
    "plt.hist(df[var].values, bins=200)\n",
    "plt.show()\n",
    "print(np.percentile(df[var].values[np.invert(np.isnan(df[var].values))], q=[0, 0.5, 1, 10, 25,50,75,95,99,99.5,100]))"
   ]
  },
  {
   "cell_type": "code",
   "execution_count": 75,
   "metadata": {},
   "outputs": [
    {
     "name": "stdout",
     "output_type": "stream",
     "text": [
      "[28.6 29.5 29.7 29.7 29.8 29.8 29.8 29.8 29.9 29.9]\n",
      "[36.9 37.  37.1 37.1 37.3 37.3 37.3 37.4 37.5 37.8]\n"
     ]
    }
   ],
   "source": [
    "print(np.sort(df[var].values[np.invert(np.isnan(df[var].values))])[:10])\n",
    "print(np.sort(df[var].values[np.invert(np.isnan(df[var].values))])[-10:])"
   ]
  },
  {
   "cell_type": "code",
   "execution_count": 76,
   "metadata": {},
   "outputs": [
    {
     "data": {
      "text/plain": [
       "4770    B-043\n",
       "Name: Study_Subject_Number, dtype: object"
      ]
     },
     "execution_count": 76,
     "metadata": {},
     "output_type": "execute_result"
    }
   ],
   "source": [
    "df['Study_Subject_Number'][df[var] < 29]"
   ]
  },
  {
   "cell_type": "code",
   "execution_count": 77,
   "metadata": {},
   "outputs": [],
   "source": [
    "df = df[df['Study_Subject_Number']!='B-043']"
   ]
  },
  {
   "cell_type": "code",
   "execution_count": 78,
   "metadata": {},
   "outputs": [
    {
     "data": {
      "image/png": "[encoded data removed]",
      "text/plain": [
       "<Figure size 432x288 with 1 Axes>"
      ]
     },
     "metadata": {
      "needs_background": "light"
     },
     "output_type": "display_data"
    },
    {
     "name": "stdout",
     "output_type": "stream",
     "text": [
      "[29.5 30.6 30.9 31.9 32.5 33.1 33.8 34.7 35.6 35.9 37.8]\n"
     ]
    }
   ],
   "source": [
    "plt.hist(df[var].values, bins=200)\n",
    "plt.show()\n",
    "print(np.percentile(df[var].values[np.invert(np.isnan(df[var].values))], q=[0, 0.5, 1, 10, 25,50,75,95,99,99.5,100]))"
   ]
  },
  {
   "cell_type": "code",
   "execution_count": 79,
   "metadata": {},
   "outputs": [
    {
     "data": {
      "image/png": "[encoded data removed]",
      "text/plain": [
       "<Figure size 432x288 with 1 Axes>"
      ]
     },
     "metadata": {
      "needs_background": "light"
     },
     "output_type": "display_data"
    }
   ],
   "source": [
    "plt.hist(df.groupby('Study_Subject_Number')[var].mean(), bins=200)\n",
    "plt.show()"
   ]
  },
  {
   "cell_type": "code",
   "execution_count": 80,
   "metadata": {},
   "outputs": [
    {
     "data": {
      "text/plain": [
       "Study_Subject_Number\n",
       "E-037    30.335294\n",
       "Name: MCHC[Whole blood], dtype: float64"
      ]
     },
     "execution_count": 80,
     "metadata": {},
     "output_type": "execute_result"
    }
   ],
   "source": [
    "df.groupby('Study_Subject_Number')[var].mean()[df.groupby('Study_Subject_Number')[var].mean() < 31]"
   ]
  },
  {
   "cell_type": "code",
   "execution_count": 81,
   "metadata": {},
   "outputs": [],
   "source": [
    "df = df[df['Study_Subject_Number']!='E-037']"
   ]
  },
  {
   "cell_type": "code",
   "execution_count": 82,
   "metadata": {},
   "outputs": [
    {
     "data": {
      "image/png": "[encoded data removed]",
      "text/plain": [
       "<Figure size 432x288 with 1 Axes>"
      ]
     },
     "metadata": {
      "needs_background": "light"
     },
     "output_type": "display_data"
    }
   ],
   "source": [
    "plt.hist(df.groupby('Study_Subject_Number')[var].var(), bins=200)\n",
    "plt.show()"
   ]
  },
  {
   "cell_type": "code",
   "execution_count": 83,
   "metadata": {},
   "outputs": [
    {
     "data": {
      "text/plain": [
       "Study_Subject_Number\n",
       "D-009    2.99619\n",
       "Name: MCHC[Whole blood], dtype: float64"
      ]
     },
     "execution_count": 83,
     "metadata": {},
     "output_type": "execute_result"
    }
   ],
   "source": [
    "df.groupby('Study_Subject_Number')[var].var()[df.groupby('Study_Subject_Number')[var].var() > 2.5]"
   ]
  },
  {
   "cell_type": "code",
   "execution_count": 84,
   "metadata": {},
   "outputs": [],
   "source": [
    "for p in df.groupby('Study_Subject_Number')[var].var()[df.groupby('Study_Subject_Number')[var].var() > 2.5].index.values:\n",
    "    df = df[df['Study_Subject_Number']!=p]"
   ]
  },
  {
   "cell_type": "code",
   "execution_count": null,
   "metadata": {},
   "outputs": [],
   "source": []
  },
  {
   "cell_type": "code",
   "execution_count": null,
   "metadata": {},
   "outputs": [],
   "source": []
  },
  {
   "cell_type": "markdown",
   "metadata": {},
   "source": [
    "# 'Serum Iron[Serum]'"
   ]
  },
  {
   "cell_type": "code",
   "execution_count": 85,
   "metadata": {},
   "outputs": [
    {
     "data": {
      "text/plain": [
       "'Serum Iron[Serum]'"
      ]
     },
     "execution_count": 85,
     "metadata": {},
     "output_type": "execute_result"
    }
   ],
   "source": [
    "var = trn_vars[5]\n",
    "var"
   ]
  },
  {
   "cell_type": "code",
   "execution_count": 86,
   "metadata": {},
   "outputs": [
    {
     "data": {
      "image/png": "[encoded data removed]",
      "text/plain": [
       "<Figure size 432x288 with 1 Axes>"
      ]
     },
     "metadata": {
      "needs_background": "light"
     },
     "output_type": "display_data"
    },
    {
     "name": "stdout",
     "output_type": "stream",
     "text": [
      "[  5.    20.    23.    37.    48.    65.    88.   132.   176.   195.34\n",
      " 304.  ]\n"
     ]
    }
   ],
   "source": [
    "plt.hist(df[var].values, bins=200)\n",
    "plt.show()\n",
    "print(np.percentile(df[var].values[np.invert(np.isnan(df[var].values))], q=[0, 0.5, 1, 10, 25,50,75,95,99,99.5,100]))"
   ]
  },
  {
   "cell_type": "code",
   "execution_count": 87,
   "metadata": {},
   "outputs": [
    {
     "name": "stdout",
     "output_type": "stream",
     "text": [
      "[ 5.  5.  5.  5.  7.  7.  9. 11. 11. 12. 13. 13. 13. 13. 14. 14. 14. 14.\n",
      " 14. 16. 16. 16. 16. 16. 16. 16. 16. 16. 16. 16.]\n",
      "[217. 217. 217. 218. 220. 220. 221. 223. 223. 225. 225. 228. 229. 233.\n",
      " 233. 239. 241. 243. 244. 246. 249. 249. 250. 253. 255. 257. 267. 275.\n",
      " 302. 304.]\n"
     ]
    }
   ],
   "source": [
    "print(np.sort(df[var].values[np.invert(np.isnan(df[var].values))])[:30])\n",
    "print(np.sort(df[var].values[np.invert(np.isnan(df[var].values))])[-30:])"
   ]
  },
  {
   "cell_type": "code",
   "execution_count": 88,
   "metadata": {},
   "outputs": [
    {
     "data": {
      "text/plain": [
       "2447     E-011\n",
       "5128     B-052\n",
       "8656     F-106\n",
       "16689    A-051\n",
       "16786    A-061\n",
       "17851    A-125\n",
       "17927    A-128\n",
       "17956    A-133\n",
       "18545    A-167\n",
       "Name: Study_Subject_Number, dtype: object"
      ]
     },
     "execution_count": 88,
     "metadata": {},
     "output_type": "execute_result"
    }
   ],
   "source": [
    "df['Study_Subject_Number'][df[var] < 12]"
   ]
  },
  {
   "cell_type": "code",
   "execution_count": 89,
   "metadata": {},
   "outputs": [
    {
     "data": {
      "text/plain": [
       "4094     B-009\n",
       "16798    A-063\n",
       "Name: Study_Subject_Number, dtype: object"
      ]
     },
     "execution_count": 89,
     "metadata": {},
     "output_type": "execute_result"
    }
   ],
   "source": [
    "df['Study_Subject_Number'][df[var] > 300]"
   ]
  },
  {
   "cell_type": "code",
   "execution_count": 90,
   "metadata": {},
   "outputs": [],
   "source": [
    "for p in df['Study_Subject_Number'][df[var] > 300].values:\n",
    "    df = df[df['Study_Subject_Number']!=p]"
   ]
  },
  {
   "cell_type": "code",
   "execution_count": 91,
   "metadata": {},
   "outputs": [
    {
     "data": {
      "image/png": "[encoded data removed]",
      "text/plain": [
       "<Figure size 432x288 with 1 Axes>"
      ]
     },
     "metadata": {
      "needs_background": "light"
     },
     "output_type": "display_data"
    }
   ],
   "source": [
    "plt.hist(df.groupby('Study_Subject_Number')[var].mean(), bins=200)\n",
    "plt.show()"
   ]
  },
  {
   "cell_type": "code",
   "execution_count": 92,
   "metadata": {},
   "outputs": [
    {
     "data": {
      "text/plain": [
       "Study_Subject_Number\n",
       "G-018    255.0\n",
       "Name: Serum Iron[Serum], dtype: float64"
      ]
     },
     "execution_count": 92,
     "metadata": {},
     "output_type": "execute_result"
    }
   ],
   "source": [
    "df.groupby('Study_Subject_Number')[var].mean()[df.groupby('Study_Subject_Number')[var].mean() > 200]"
   ]
  },
  {
   "cell_type": "code",
   "execution_count": 93,
   "metadata": {},
   "outputs": [],
   "source": [
    "for p in df.groupby('Study_Subject_Number')[var].mean()[df.groupby('Study_Subject_Number')[var].mean() > 200].index.values:\n",
    "    df = df[df['Study_Subject_Number']!=p]"
   ]
  },
  {
   "cell_type": "code",
   "execution_count": 94,
   "metadata": {},
   "outputs": [
    {
     "data": {
      "image/png": "[encoded data removed]",
      "text/plain": [
       "<Figure size 432x288 with 1 Axes>"
      ]
     },
     "metadata": {
      "needs_background": "light"
     },
     "output_type": "display_data"
    }
   ],
   "source": [
    "plt.hist(df.groupby('Study_Subject_Number')[var].var(), bins=200)\n",
    "plt.show()"
   ]
  },
  {
   "cell_type": "code",
   "execution_count": 95,
   "metadata": {},
   "outputs": [
    {
     "data": {
      "text/plain": [
       "Study_Subject_Number\n",
       "A-074    2887.928571\n",
       "A-102    4182.166667\n",
       "A-136    4081.290909\n",
       "A-193    3137.767196\n",
       "A-194    3496.696429\n",
       "D-116    3993.923077\n",
       "E-002    4071.200000\n",
       "F-045    3544.590090\n",
       "G-093    5434.666667\n",
       "G-166    3224.200000\n",
       "G-265    2517.666667\n",
       "Name: Serum Iron[Serum], dtype: float64"
      ]
     },
     "execution_count": 95,
     "metadata": {},
     "output_type": "execute_result"
    }
   ],
   "source": [
    "df.groupby('Study_Subject_Number')[var].var()[df.groupby('Study_Subject_Number')[var].var() > 2500]"
   ]
  },
  {
   "cell_type": "code",
   "execution_count": 96,
   "metadata": {},
   "outputs": [],
   "source": [
    "for p in df.groupby('Study_Subject_Number')[var].var()[df.groupby('Study_Subject_Number')[var].var() > 2500].index.values:\n",
    "    df = df[df['Study_Subject_Number']!=p]"
   ]
  },
  {
   "cell_type": "code",
   "execution_count": null,
   "metadata": {},
   "outputs": [],
   "source": []
  },
  {
   "cell_type": "code",
   "execution_count": null,
   "metadata": {},
   "outputs": [],
   "source": []
  },
  {
   "cell_type": "markdown",
   "metadata": {},
   "source": [
    "# 'URR[Serum]'"
   ]
  },
  {
   "cell_type": "code",
   "execution_count": 97,
   "metadata": {},
   "outputs": [
    {
     "data": {
      "text/plain": [
       "'URR[Serum]'"
      ]
     },
     "execution_count": 97,
     "metadata": {},
     "output_type": "execute_result"
    }
   ],
   "source": [
    "var = trn_vars[10]\n",
    "var"
   ]
  },
  {
   "cell_type": "code",
   "execution_count": 98,
   "metadata": {},
   "outputs": [
    {
     "data": {
      "image/png": "[encoded data removed]",
      "text/plain": [
       "<Figure size 432x288 with 1 Axes>"
      ]
     },
     "metadata": {
      "needs_background": "light"
     },
     "output_type": "display_data"
    },
    {
     "name": "stdout",
     "output_type": "stream",
     "text": [
      "[ 0.         52.96735    56.4664     65.81464473 69.85       73.93719708\n",
      " 77.66437733 82.7285     85.91709776 88.13187434 98.7       ]\n"
     ]
    }
   ],
   "source": [
    "plt.hist(df[var].values, bins=200)\n",
    "plt.show()\n",
    "print(np.percentile(df[var].values[np.invert(np.isnan(df[var].values))], q=[0, 0.5, 1, 10, 25,50,75,95,99,99.5,100]))"
   ]
  },
  {
   "cell_type": "code",
   "execution_count": 99,
   "metadata": {},
   "outputs": [
    {
     "name": "stdout",
     "output_type": "stream",
     "text": [
      "[ 0.          0.          0.          0.          0.          0.\n",
      "  0.          0.          2.06422018  5.55       20.51282051 21.92982456\n",
      " 23.4        23.96313364 26.77824268 28.57       31.2335958  32.15\n",
      " 33.95522388 35.55       35.69       36.12334802 36.5        37.33905579\n",
      " 37.65060241 37.87878788 38.02281369 39.50617284 40.03       40.69      ]\n",
      "[93.62041467 93.75       93.98797595 94.02985075 94.46564885 94.57364341\n",
      " 94.90909091 94.92600423 94.95       95.02369668 95.14563107 95.22968198\n",
      " 95.62043796 95.68627451 95.76399395 96.02356406 96.19377163 96.23\n",
      " 96.54       96.62       96.91       97.18       97.85330948 98.03\n",
      " 98.09       98.11       98.28       98.44       98.65       98.7       ]\n"
     ]
    }
   ],
   "source": [
    "print(np.sort(df[var].values[np.invert(np.isnan(df[var].values))])[:30])\n",
    "print(np.sort(df[var].values[np.invert(np.isnan(df[var].values))])[-30:])"
   ]
  },
  {
   "cell_type": "code",
   "execution_count": 100,
   "metadata": {},
   "outputs": [],
   "source": [
    "df['URR[Serum]'][df['URR[Serum]']<40] = None"
   ]
  },
  {
   "cell_type": "code",
   "execution_count": 101,
   "metadata": {},
   "outputs": [
    {
     "data": {
      "image/png": "[encoded data removed]",
      "text/plain": [
       "<Figure size 432x288 with 1 Axes>"
      ]
     },
     "metadata": {
      "needs_background": "light"
     },
     "output_type": "display_data"
    },
    {
     "name": "stdout",
     "output_type": "stream",
     "text": [
      "[40.03       54.74150439 57.29841361 65.88617812 69.88371565 73.9489479\n",
      " 77.6822779  82.7356389  85.91974097 88.13640871 98.7       ]\n"
     ]
    }
   ],
   "source": [
    "plt.hist(df[var].values, bins=200)\n",
    "plt.show()\n",
    "print(np.percentile(df[var].values[np.invert(np.isnan(df[var].values))], q=[0, 0.5, 1, 10, 25,50,75,95,99,99.5,100]))"
   ]
  },
  {
   "cell_type": "code",
   "execution_count": 102,
   "metadata": {},
   "outputs": [
    {
     "data": {
      "image/png": "[encoded data removed]",
      "text/plain": [
       "<Figure size 432x288 with 1 Axes>"
      ]
     },
     "metadata": {
      "needs_background": "light"
     },
     "output_type": "display_data"
    }
   ],
   "source": [
    "plt.hist(df.groupby('Study_Subject_Number')[var].mean(), bins=200)\n",
    "plt.show()"
   ]
  },
  {
   "cell_type": "code",
   "execution_count": 103,
   "metadata": {},
   "outputs": [
    {
     "data": {
      "text/plain": [
       "Study_Subject_Number\n",
       "B-016    95.156996\n",
       "Name: URR[Serum], dtype: float64"
      ]
     },
     "execution_count": 103,
     "metadata": {},
     "output_type": "execute_result"
    }
   ],
   "source": [
    "df.groupby('Study_Subject_Number')[var].mean()[df.groupby('Study_Subject_Number')[var].mean() > 90]"
   ]
  },
  {
   "cell_type": "code",
   "execution_count": 104,
   "metadata": {},
   "outputs": [],
   "source": [
    "df = df[df['Study_Subject_Number']!='B-016']"
   ]
  },
  {
   "cell_type": "code",
   "execution_count": 105,
   "metadata": {},
   "outputs": [
    {
     "data": {
      "text/plain": [
       "Study_Subject_Number\n",
       "A-201    56.151760\n",
       "B-021    59.366579\n",
       "E-004    57.526000\n",
       "E-006    58.525000\n",
       "E-065    54.917000\n",
       "F-079    57.088123\n",
       "F-080    53.229167\n",
       "F-106    57.895012\n",
       "H-009    58.800000\n",
       "Name: URR[Serum], dtype: float64"
      ]
     },
     "execution_count": 105,
     "metadata": {},
     "output_type": "execute_result"
    }
   ],
   "source": [
    "df.groupby('Study_Subject_Number')[var].mean()[df.groupby('Study_Subject_Number')[var].mean() < 60]"
   ]
  },
  {
   "cell_type": "code",
   "execution_count": 106,
   "metadata": {},
   "outputs": [
    {
     "data": {
      "image/png": "[encoded data removed]",
      "text/plain": [
       "<Figure size 432x288 with 1 Axes>"
      ]
     },
     "metadata": {
      "needs_background": "light"
     },
     "output_type": "display_data"
    }
   ],
   "source": [
    "plt.hist(df.groupby('Study_Subject_Number')[var].mean(), bins=200)\n",
    "plt.show()"
   ]
  },
  {
   "cell_type": "code",
   "execution_count": 107,
   "metadata": {},
   "outputs": [
    {
     "data": {
      "image/png": "[encoded data removed]",
      "text/plain": [
       "<Figure size 432x288 with 1 Axes>"
      ]
     },
     "metadata": {
      "needs_background": "light"
     },
     "output_type": "display_data"
    }
   ],
   "source": [
    "plt.hist(df.groupby('Study_Subject_Number')[var].var(), bins=200)\n",
    "plt.show()"
   ]
  },
  {
   "cell_type": "code",
   "execution_count": 108,
   "metadata": {},
   "outputs": [
    {
     "data": {
      "text/plain": [
       "Study_Subject_Number\n",
       "A-201    143.86392\n",
       "Name: URR[Serum], dtype: float64"
      ]
     },
     "execution_count": 108,
     "metadata": {},
     "output_type": "execute_result"
    }
   ],
   "source": [
    "df.groupby('Study_Subject_Number')[var].var()[df.groupby('Study_Subject_Number')[var].var() > 80]"
   ]
  },
  {
   "cell_type": "code",
   "execution_count": 109,
   "metadata": {},
   "outputs": [],
   "source": [
    "for p in df.groupby('Study_Subject_Number')[var].var()[df.groupby('Study_Subject_Number')[var].var() > 80].index.values:\n",
    "    df = df[df['Study_Subject_Number']!=p]"
   ]
  },
  {
   "cell_type": "code",
   "execution_count": null,
   "metadata": {},
   "outputs": [],
   "source": []
  },
  {
   "cell_type": "code",
   "execution_count": null,
   "metadata": {},
   "outputs": [],
   "source": []
  },
  {
   "cell_type": "markdown",
   "metadata": {},
   "source": [
    "# Dry Weight"
   ]
  },
  {
   "cell_type": "code",
   "execution_count": 110,
   "metadata": {},
   "outputs": [
    {
     "data": {
      "text/plain": [
       "'Dry Weight'"
      ]
     },
     "execution_count": 110,
     "metadata": {},
     "output_type": "execute_result"
    }
   ],
   "source": [
    "var = trn_vars[11]\n",
    "var"
   ]
  },
  {
   "cell_type": "code",
   "execution_count": 111,
   "metadata": {},
   "outputs": [
    {
     "data": {
      "image/png": "[encoded data removed]",
      "text/plain": [
       "<Figure size 432x288 with 1 Axes>"
      ]
     },
     "metadata": {
      "needs_background": "light"
     },
     "output_type": "display_data"
    },
    {
     "name": "stdout",
     "output_type": "stream",
     "text": [
      "[ 32.7     36.2445  37.5     46.      52.3     60.      67.4     81.\n",
      "  89.211   93.6665 124.3   ]\n"
     ]
    }
   ],
   "source": [
    "plt.hist(df[var].values, bins=200)\n",
    "plt.show()\n",
    "print(np.percentile(df[var].values[np.invert(np.isnan(df[var].values))], q=[0, 0.5, 1, 10, 25,50,75,95,99,99.5,100]))"
   ]
  },
  {
   "cell_type": "code",
   "execution_count": 112,
   "metadata": {},
   "outputs": [
    {
     "data": {
      "text/plain": [
       "2427    E-006\n",
       "2428    E-006\n",
       "2429    E-006\n",
       "4272    B-021\n",
       "4273    B-021\n",
       "4274    B-021\n",
       "4275    B-021\n",
       "4276    B-021\n",
       "4277    B-021\n",
       "4278    B-021\n",
       "4279    B-021\n",
       "8095    F-080\n",
       "Name: Study_Subject_Number, dtype: object"
      ]
     },
     "execution_count": 112,
     "metadata": {},
     "output_type": "execute_result"
    }
   ],
   "source": [
    "df['Study_Subject_Number'][df[var] > 100]"
   ]
  },
  {
   "cell_type": "code",
   "execution_count": 113,
   "metadata": {},
   "outputs": [],
   "source": [
    "df = df[df['Study_Subject_Number']!='B-021']"
   ]
  },
  {
   "cell_type": "code",
   "execution_count": 114,
   "metadata": {},
   "outputs": [
    {
     "data": {
      "image/png": "[encoded data removed]",
      "text/plain": [
       "<Figure size 432x288 with 1 Axes>"
      ]
     },
     "metadata": {
      "needs_background": "light"
     },
     "output_type": "display_data"
    }
   ],
   "source": [
    "plt.hist(df.groupby('Study_Subject_Number')[var].mean(), bins=200)\n",
    "plt.show()"
   ]
  },
  {
   "cell_type": "code",
   "execution_count": 115,
   "metadata": {},
   "outputs": [
    {
     "data": {
      "text/plain": [
       "Study_Subject_Number\n",
       "E-006    105.5\n",
       "Name: Dry Weight, dtype: float64"
      ]
     },
     "execution_count": 115,
     "metadata": {},
     "output_type": "execute_result"
    }
   ],
   "source": [
    "df.groupby('Study_Subject_Number')[var].mean()[df.groupby('Study_Subject_Number')[var].mean() > 100]"
   ]
  },
  {
   "cell_type": "code",
   "execution_count": 116,
   "metadata": {},
   "outputs": [],
   "source": [
    "df = df[df['Study_Subject_Number']!='E-006']"
   ]
  },
  {
   "cell_type": "code",
   "execution_count": 117,
   "metadata": {},
   "outputs": [
    {
     "data": {
      "image/png": "[encoded data removed]",
      "text/plain": [
       "<Figure size 432x288 with 1 Axes>"
      ]
     },
     "metadata": {
      "needs_background": "light"
     },
     "output_type": "display_data"
    }
   ],
   "source": [
    "plt.hist(df.groupby('Study_Subject_Number')[var].var(), bins=200)\n",
    "plt.show()"
   ]
  },
  {
   "cell_type": "code",
   "execution_count": 118,
   "metadata": {},
   "outputs": [
    {
     "data": {
      "text/plain": [
       "Study_Subject_Number\n",
       "A-085    26.074323\n",
       "A-122    29.547143\n",
       "F-067    25.468875\n",
       "G-105    23.927005\n",
       "Name: Dry Weight, dtype: float64"
      ]
     },
     "execution_count": 118,
     "metadata": {},
     "output_type": "execute_result"
    }
   ],
   "source": [
    "df.groupby('Study_Subject_Number')[var].var()[df.groupby('Study_Subject_Number')[var].var() > 20]"
   ]
  },
  {
   "cell_type": "code",
   "execution_count": 119,
   "metadata": {},
   "outputs": [],
   "source": [
    "for p in df.groupby('Study_Subject_Number')[var].var()[df.groupby('Study_Subject_Number')[var].var() > 20].index.values:\n",
    "    df = df[df['Study_Subject_Number']!=p]"
   ]
  },
  {
   "cell_type": "code",
   "execution_count": null,
   "metadata": {},
   "outputs": [],
   "source": []
  },
  {
   "cell_type": "code",
   "execution_count": null,
   "metadata": {},
   "outputs": [],
   "source": []
  },
  {
   "cell_type": "code",
   "execution_count": null,
   "metadata": {},
   "outputs": [],
   "source": []
  },
  {
   "cell_type": "markdown",
   "metadata": {},
   "source": [
    "# 'Albumin[Serum]'"
   ]
  },
  {
   "cell_type": "code",
   "execution_count": 120,
   "metadata": {},
   "outputs": [
    {
     "data": {
      "text/plain": [
       "'Albumin[Serum]'"
      ]
     },
     "execution_count": 120,
     "metadata": {},
     "output_type": "execute_result"
    }
   ],
   "source": [
    "var = trn_vars[12]\n",
    "var"
   ]
  },
  {
   "cell_type": "code",
   "execution_count": 121,
   "metadata": {},
   "outputs": [
    {
     "data": {
      "image/png": "[encoded data removed]",
      "text/plain": [
       "<Figure size 432x288 with 1 Axes>"
      ]
     },
     "metadata": {
      "needs_background": "light"
     },
     "output_type": "display_data"
    },
    {
     "name": "stdout",
     "output_type": "stream",
     "text": [
      "[1.8 2.7 2.8 3.3 3.6 3.9 4.1 4.4 4.6 4.6 5.4]\n"
     ]
    }
   ],
   "source": [
    "plt.hist(df[var].values, bins=200)\n",
    "plt.show()\n",
    "print(np.percentile(df[var].values[np.invert(np.isnan(df[var].values))], q=[0, 0.5, 1, 10, 25,50,75,95,99,99.5,100]))"
   ]
  },
  {
   "cell_type": "code",
   "execution_count": 122,
   "metadata": {},
   "outputs": [
    {
     "name": "stdout",
     "output_type": "stream",
     "text": [
      "[1.8 1.9 2.  2.  2.  2.1 2.1 2.2 2.2 2.2 2.2 2.2 2.2 2.2 2.3 2.3 2.3 2.4\n",
      " 2.4 2.4 2.4 2.4 2.4 2.4 2.5 2.5 2.5 2.5 2.5 2.5]\n",
      "[4.7 4.7 4.7 4.7 4.7 4.7 4.7 4.7 4.8 4.8 4.8 4.8 4.8 4.8 4.8 4.8 4.8 4.8\n",
      " 4.9 4.9 4.9 4.9 4.9 4.9 4.9 5.  5.  5.  5.1 5.4]\n"
     ]
    }
   ],
   "source": [
    "print(np.sort(df[var].values[np.invert(np.isnan(df[var].values))])[:30])\n",
    "print(np.sort(df[var].values[np.invert(np.isnan(df[var].values))])[-30:])"
   ]
  },
  {
   "cell_type": "code",
   "execution_count": 123,
   "metadata": {},
   "outputs": [
    {
     "data": {
      "image/png": "[encoded data removed]",
      "text/plain": [
       "<Figure size 432x288 with 1 Axes>"
      ]
     },
     "metadata": {
      "needs_background": "light"
     },
     "output_type": "display_data"
    }
   ],
   "source": [
    "plt.hist(df.groupby('Study_Subject_Number')[var].mean(), bins=200)\n",
    "plt.show()"
   ]
  },
  {
   "cell_type": "code",
   "execution_count": 124,
   "metadata": {},
   "outputs": [
    {
     "data": {
      "image/png": "[encoded data removed]",
      "text/plain": [
       "<Figure size 432x288 with 1 Axes>"
      ]
     },
     "metadata": {
      "needs_background": "light"
     },
     "output_type": "display_data"
    }
   ],
   "source": [
    "plt.hist(df.groupby('Study_Subject_Number')[var].var(), bins=200)\n",
    "plt.show()"
   ]
  },
  {
   "cell_type": "code",
   "execution_count": 125,
   "metadata": {},
   "outputs": [
    {
     "data": {
      "text/plain": [
       "Study_Subject_Number\n",
       "A-146    0.410000\n",
       "B-001    0.331821\n",
       "D-112    0.249753\n",
       "F-078    0.298022\n",
       "F-079    0.213667\n",
       "Name: Albumin[Serum], dtype: float64"
      ]
     },
     "execution_count": 125,
     "metadata": {},
     "output_type": "execute_result"
    }
   ],
   "source": [
    "df.groupby('Study_Subject_Number')[var].var()[df.groupby('Study_Subject_Number')[var].var() > 0.2]"
   ]
  },
  {
   "cell_type": "code",
   "execution_count": 126,
   "metadata": {},
   "outputs": [],
   "source": [
    "for p in df.groupby('Study_Subject_Number')[var].var()[df.groupby('Study_Subject_Number')[var].var() > 0.2].index.values:\n",
    "    df = df[df['Study_Subject_Number']!=p]"
   ]
  },
  {
   "cell_type": "code",
   "execution_count": null,
   "metadata": {},
   "outputs": [],
   "source": []
  },
  {
   "cell_type": "code",
   "execution_count": null,
   "metadata": {},
   "outputs": [],
   "source": []
  },
  {
   "cell_type": "markdown",
   "metadata": {},
   "source": [
    "# 'Predialysis Weight'"
   ]
  },
  {
   "cell_type": "code",
   "execution_count": 127,
   "metadata": {},
   "outputs": [
    {
     "data": {
      "text/plain": [
       "'Predialysis Weight'"
      ]
     },
     "execution_count": 127,
     "metadata": {},
     "output_type": "execute_result"
    }
   ],
   "source": [
    "var = trn_vars[13]\n",
    "var"
   ]
  },
  {
   "cell_type": "code",
   "execution_count": 128,
   "metadata": {},
   "outputs": [
    {
     "data": {
      "image/png": "[encoded data removed]",
      "text/plain": [
       "<Figure size 432x288 with 1 Axes>"
      ]
     },
     "metadata": {
      "needs_background": "light"
     },
     "output_type": "display_data"
    },
    {
     "name": "stdout",
     "output_type": "stream",
     "text": [
      "[ 33.3      37.95125  39.       47.7      54.5125   61.8      69.6375\n",
      "  84.3      92.795    95.8     104.     ]\n"
     ]
    }
   ],
   "source": [
    "plt.hist(df[var].values, bins=200)\n",
    "plt.show()\n",
    "print(np.percentile(df[var].values[np.invert(np.isnan(df[var].values))], q=[0, 0.5, 1, 10, 25,50,75,95,99,99.5,100]))"
   ]
  },
  {
   "cell_type": "code",
   "execution_count": 129,
   "metadata": {},
   "outputs": [
    {
     "data": {
      "image/png": "[encoded data removed]",
      "text/plain": [
       "<Figure size 432x288 with 1 Axes>"
      ]
     },
     "metadata": {
      "needs_background": "light"
     },
     "output_type": "display_data"
    }
   ],
   "source": [
    "plt.hist(df.groupby('Study_Subject_Number')[var].mean(), bins=200)\n",
    "plt.show()"
   ]
  },
  {
   "cell_type": "code",
   "execution_count": 130,
   "metadata": {},
   "outputs": [
    {
     "data": {
      "image/png": "[encoded data removed]",
      "text/plain": [
       "<Figure size 432x288 with 1 Axes>"
      ]
     },
     "metadata": {
      "needs_background": "light"
     },
     "output_type": "display_data"
    }
   ],
   "source": [
    "plt.hist(df.groupby('Study_Subject_Number')[var].var(), bins=200)\n",
    "plt.show()"
   ]
  },
  {
   "cell_type": "code",
   "execution_count": 131,
   "metadata": {},
   "outputs": [],
   "source": [
    "df.to_excel('data_processed.xlsx', index=False)"
   ]
  },
  {
   "cell_type": "code",
   "execution_count": null,
   "metadata": {},
   "outputs": [],
   "source": []
  },
  {
   "cell_type": "code",
   "execution_count": null,
   "metadata": {},
   "outputs": [],
   "source": []
  },
  {
   "cell_type": "code",
   "execution_count": null,
   "metadata": {},
   "outputs": [],
   "source": []
  },
  {
   "cell_type": "code",
   "execution_count": null,
   "metadata": {},
   "outputs": [],
   "source": []
  },
  {
   "cell_type": "code",
   "execution_count": null,
   "metadata": {},
   "outputs": [],
   "source": []
  },
  {
   "cell_type": "code",
   "execution_count": null,
   "metadata": {},
   "outputs": [],
   "source": []
  }
 ],
 "metadata": {
  "kernelspec": {
   "display_name": "Python 3",
   "language": "python",
   "name": "python3"
  },
  "language_info": {
   "codemirror_mode": {
    "name": "ipython",
    "version": 3
   },
   "file_extension": ".py",
   "mimetype": "text/x-python",
   "name": "python",
   "nbconvert_exporter": "python",
   "pygments_lexer": "ipython3",
   "version": "3.6.8"
  }
 },
 "nbformat": 4,
 "nbformat_minor": 4
}
