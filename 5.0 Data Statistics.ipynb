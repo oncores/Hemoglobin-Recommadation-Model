{
 "cells": [
  {
   "cell_type": "markdown",
   "metadata": {},
   "source": [
    "# Data Creation"
   ]
  },
  {
   "cell_type": "code",
   "execution_count": 1,
   "metadata": {},
   "outputs": [],
   "source": [
    "import pandas as pd\n",
    "import numpy as np"
   ]
  },
  {
   "cell_type": "code",
   "execution_count": 3,
   "metadata": {},
   "outputs": [],
   "source": [
    "df = pd.read_excel(\"stat_data_processed.xlsx\", sheet_name=0, header=0)\n",
    "\n",
    "indexes = np.unique(df['Study_Subject_Number'].values, return_index=True)[1]\n",
    "patient_list = [df['Study_Subject_Number'].values[index] for index in sorted(indexes)]"
   ]
  },
  {
   "cell_type": "code",
   "execution_count": 4,
   "metadata": {},
   "outputs": [
    {
     "data": {
      "text/plain": [
       "466"
      ]
     },
     "execution_count": 4,
     "metadata": {},
     "output_type": "execute_result"
    }
   ],
   "source": [
    "len(patient_list)"
   ]
  },
  {
   "cell_type": "code",
   "execution_count": 5,
   "metadata": {},
   "outputs": [],
   "source": [
    "target_var = ['Target_Hb']\n",
    "\n",
    "info_vars = ['Study_Subject_Number', 'Order'] \n",
    "\n",
    "categoryA = [\"Hemoglobin[Whole blood]\", \"Delta_Hb\", \"RDW[Whole blood]\", \"MCV[Whole blood]\", \"MCH[Whole blood]\", \"MCHC[Whole blood]\", \"Serum Iron[Serum]\", \"Age (yrs)\", \"Sex_M\", \"Sex_F\", 'EPO_Dose']\n",
    "\n",
    "categoryB = [\"URR[Serum]\", 'Dry Weight', 'Albumin[Serum]', 'Predialysis Weight', 'Height (cm)']\n",
    "\n",
    "trn_vars = categoryA + categoryB\n",
    "\n",
    "all_vars = info_vars + trn_vars + target_var"
   ]
  },
  {
   "cell_type": "markdown",
   "metadata": {},
   "source": [
    "# statistics"
   ]
  },
  {
   "cell_type": "code",
   "execution_count": 6,
   "metadata": {},
   "outputs": [
    {
     "data": {
      "text/plain": [
       "466"
      ]
     },
     "execution_count": 6,
     "metadata": {},
     "output_type": "execute_result"
    }
   ],
   "source": [
    "len(df['Subject No.'].drop_duplicates())"
   ]
  },
  {
   "cell_type": "code",
   "execution_count": 7,
   "metadata": {},
   "outputs": [
    {
     "data": {
      "text/plain": [
       "15210"
      ]
     },
     "execution_count": 7,
     "metadata": {},
     "output_type": "execute_result"
    }
   ],
   "source": [
    "#original row count\n",
    "len(df.values)"
   ]
  },
  {
   "cell_type": "code",
   "execution_count": 8,
   "metadata": {},
   "outputs": [],
   "source": [
    "df['Erythropoietin-alpha-concat'] = df['Erythropoietin-alpha'] + df['Erythropoietin-alpha.1']\n",
    "df['Dose_Erythropoietin-alpha-concat'] = df['Dose_Erythropoietin-alpha'] + df['Dose_Erythropoietin-alpha.1']"
   ]
  },
  {
   "cell_type": "code",
   "execution_count": 9,
   "metadata": {},
   "outputs": [],
   "source": [
    "# df = df.drop(['Unit_Number'], axis=1)"
   ]
  },
  {
   "cell_type": "code",
   "execution_count": 10,
   "metadata": {},
   "outputs": [
    {
     "data": {
      "text/plain": [
       "Index(['Subject No.', 'Unit_Number', 'Age (yrs)', 'Sex', 'Height (cm)',\n",
       "       'Weight (kg)', 'BMI (kg/m2)', 'Transfusion', 'Study_Subject_Number',\n",
       "       'Order', 'Unit Number', 'Date', 'SBP_start(mmHg)', 'SBP_End(mmHg)',\n",
       "       'Dry Weight', 'Predialysis Weight', 'Post_dialysis Weight',\n",
       "       'Ultrafilteration Volume', 'Hemoglobin[Whole blood]',\n",
       "       'Hct[Whole blood]', 'MCV[Whole blood]', 'MCHC[Whole blood]',\n",
       "       'MCH[Whole blood]', 'RDW[Whole blood]', 'MPV[Whole blood]',\n",
       "       'PLT Count[Whole blood]', 'WBC COUNT[Whole blood]', 'Calcium[Serum]',\n",
       "       'Inorganic P[Serum]', 'Glucose[Serum]', 'Total Protein[Serum]',\n",
       "       'Albumin[Serum]', 'Creatinine[Serum]', 'Uric Acid[Serum]',\n",
       "       'Serum Iron[Serum]', 'URR[Serum]', 'Darbepoetin-alpha',\n",
       "       'Dose_Darbepoetin-alpha', 'Erythropoietin-alpha',\n",
       "       'Dose_Erythropoietin-alpha', 'Epoetin-beta', 'Dose_Epoetin-beta',\n",
       "       'Erythropoietin-alpha.1', 'Dose_Erythropoietin-alpha.1', 'EPO_Dose',\n",
       "       'Sex_F', 'Sex_M', 'Date_diff', 'Target_Hb', 'Delta_Hb',\n",
       "       'Erythropoietin-alpha-concat', 'Dose_Erythropoietin-alpha-concat'],\n",
       "      dtype='object')"
      ]
     },
     "execution_count": 10,
     "metadata": {},
     "output_type": "execute_result"
    }
   ],
   "source": [
    "df.columns"
   ]
  },
  {
   "cell_type": "markdown",
   "metadata": {},
   "source": [
    "# Participants, No."
   ]
  },
  {
   "cell_type": "code",
   "execution_count": 11,
   "metadata": {},
   "outputs": [
    {
     "name": "stdout",
     "output_type": "stream",
     "text": [
      "[96, 52, 54, 49, 67, 125, 23]\n"
     ]
    }
   ],
   "source": [
    "# number of patient each of hospital\n",
    "\n",
    "print([len(np.unique(df[df['Subject No.'].str.contains(i)]['Subject No.'])) for i in ['A','B','D','E','F','G','H']])"
   ]
  },
  {
   "cell_type": "markdown",
   "metadata": {},
   "source": [
    "# Follow-up duration, median (IQR), month"
   ]
  },
  {
   "cell_type": "code",
   "execution_count": 78,
   "metadata": {},
   "outputs": [
    {
     "name": "stdout",
     "output_type": "stream",
     "text": [
      "overall\n",
      "15.0\n",
      "30.0\n",
      "54.0\n"
     ]
    }
   ],
   "source": [
    "print('overall')\n",
    "print(np.percentile(df.groupby(['Subject No.']).count()['Study_Subject_Number'],25))\n",
    "print(np.percentile(df.groupby(['Subject No.']).count()['Study_Subject_Number'],50))\n",
    "print(np.percentile(df.groupby(['Subject No.']).count()['Study_Subject_Number'],75))"
   ]
  },
  {
   "cell_type": "code",
   "execution_count": 135,
   "metadata": {
    "scrolled": true
   },
   "outputs": [
    {
     "name": "stdout",
     "output_type": "stream",
     "text": [
      "A 10.75\n",
      "A 20.5\n",
      "A 47.25\n",
      "\n",
      "B 21.75\n",
      "B 41.0\n",
      "B 58.0\n",
      "\n",
      "D 18.5\n",
      "D 45.0\n",
      "D 52.0\n",
      "\n",
      "E 9.0\n",
      "E 28.0\n",
      "E 36.0\n",
      "\n",
      "F 14.0\n",
      "F 32.0\n",
      "F 53.5\n",
      "\n",
      "G 21.0\n",
      "G 39.0\n",
      "G 58.0\n",
      "\n",
      "H 10.0\n",
      "H 19.0\n",
      "H 26.0\n",
      "\n"
     ]
    }
   ],
   "source": [
    "for hospital in ['A','B','D','E','F','G','H'] :\n",
    "    print(hospital, np.percentile(df[df['Order'].str.contains(hospital)].groupby(['Subject No.']).count()['Study_Subject_Number'],25))\n",
    "    print(hospital, np.percentile(df[df['Order'].str.contains(hospital)].groupby(['Subject No.']).count()['Study_Subject_Number'],50))\n",
    "    print(hospital, np.percentile(df[df['Order'].str.contains(hospital)].groupby(['Subject No.']).count()['Study_Subject_Number'],75))\n",
    "    print('')"
   ]
  },
  {
   "cell_type": "markdown",
   "metadata": {},
   "source": [
    "# Sex, No. (%)"
   ]
  },
  {
   "cell_type": "code",
   "execution_count": 100,
   "metadata": {},
   "outputs": [
    {
     "name": "stdout",
     "output_type": "stream",
     "text": [
      "Overall\n",
      "Men 248\n",
      "Women 218\n"
     ]
    }
   ],
   "source": [
    "print('Overall')\n",
    "print('Men', len(df[df['Sex']=='M']['Subject No.'].drop_duplicates()))\n",
    "print('Women', len(df[df['Sex']=='F']['Subject No.'].drop_duplicates()))"
   ]
  },
  {
   "cell_type": "code",
   "execution_count": 116,
   "metadata": {},
   "outputs": [
    {
     "name": "stdout",
     "output_type": "stream",
     "text": [
      "A MAN 59\n",
      "A Female 37\n",
      "B MAN 30\n",
      "B Female 22\n",
      "D MAN 27\n",
      "D Female 27\n",
      "E MAN 30\n",
      "E Female 19\n",
      "F MAN 29\n",
      "F Female 38\n",
      "G MAN 62\n",
      "G Female 63\n",
      "H MAN 11\n",
      "H Female 12\n"
     ]
    }
   ],
   "source": [
    "for hospital in ['A','B','D','E','F','G','H'] :\n",
    "    print(hospital, 'MAN', len(df[(df['Order'].str.contains(hospital)) & (df['Sex']=='M')]['Subject No.'].drop_duplicates()))\n",
    "    print(hospital, 'Female', len(df[(df['Order'].str.contains(hospital)) & (df['Sex']=='F')]['Subject No.'].drop_duplicates()))"
   ]
  },
  {
   "cell_type": "markdown",
   "metadata": {},
   "source": [
    "# Get mean (SD)"
   ]
  },
  {
   "cell_type": "code",
   "execution_count": 110,
   "metadata": {},
   "outputs": [],
   "source": [
    "target_var = 'Hemoglobin[Whole blood]'"
   ]
  },
  {
   "cell_type": "code",
   "execution_count": 111,
   "metadata": {},
   "outputs": [
    {
     "name": "stdout",
     "output_type": "stream",
     "text": [
      "overall Hemoglobin[Whole blood]\n",
      "10.8\n",
      "1.1\n"
     ]
    }
   ],
   "source": [
    "print('overall', target_var)\n",
    "print(round(np.mean(df[target_var]),1))\n",
    "print(round(np.std(df[target_var]),1))"
   ]
  },
  {
   "cell_type": "code",
   "execution_count": 112,
   "metadata": {},
   "outputs": [
    {
     "name": "stdout",
     "output_type": "stream",
     "text": [
      "Hemoglobin[Whole blood]\n",
      "A 10.7\n",
      "A 1.1\n",
      "\n",
      "B 10.4\n",
      "B 1.0\n",
      "\n",
      "D 10.9\n",
      "D 1.2\n",
      "\n",
      "E 10.7\n",
      "E 1.1\n",
      "\n",
      "F 10.4\n",
      "F 0.9\n",
      "\n",
      "G 11.1\n",
      "G 1.1\n",
      "\n",
      "H 10.4\n",
      "H 0.9\n",
      "\n"
     ]
    }
   ],
   "source": [
    "print(target_var)\n",
    "for hospital in ['A','B','D','E','F','G','H'] :\n",
    "    print(hospital, round(np.mean(df[df['Order'].str.contains(hospital)][target_var]),1))\n",
    "    print(hospital, round(np.std(df[df['Order'].str.contains(hospital)][target_var]),1))\n",
    "    print('')"
   ]
  },
  {
   "cell_type": "markdown",
   "metadata": {},
   "source": [
    "# Erythropoietin, No. (%)"
   ]
  },
  {
   "cell_type": "code",
   "execution_count": 248,
   "metadata": {},
   "outputs": [],
   "source": [
    "target_var = 'Epoetin-beta'\n",
    "# Darbepoetin-alpha\n",
    "# Epoetin-beta\n",
    "# Erythropoietin-alpha-concat\n"
   ]
  },
  {
   "cell_type": "code",
   "execution_count": 251,
   "metadata": {},
   "outputs": [
    {
     "name": "stdout",
     "output_type": "stream",
     "text": [
      "over all Epoetin-beta\n",
      "22\n"
     ]
    }
   ],
   "source": [
    "print('over all', target_var)\n",
    "print(len([i for i in df.groupby(['Study_Subject_Number',target_var]).count().reset_index()[target_var] if i!=0]))"
   ]
  },
  {
   "cell_type": "code",
   "execution_count": 252,
   "metadata": {},
   "outputs": [
    {
     "name": "stdout",
     "output_type": "stream",
     "text": [
      "get frequency Epoetin-beta\n",
      "A 2\n",
      "B 0\n",
      "D 2\n",
      "E 18\n",
      "F 0\n",
      "G 0\n",
      "H 0\n"
     ]
    }
   ],
   "source": [
    "print('get frequency', target_var)\n",
    "for hospital in ['A','B','D','E','F','G','H'] :\n",
    "    print(hospital, len([i for i in df[df['Order'].str.contains(hospital)].groupby(['Study_Subject_Number',target_var]).count().reset_index()[target_var] if i!=0]))"
   ]
  },
  {
   "cell_type": "markdown",
   "metadata": {},
   "source": [
    "# Erythropoietin per month, median (IQR)\n"
   ]
  },
  {
   "cell_type": "code",
   "execution_count": 258,
   "metadata": {},
   "outputs": [],
   "source": [
    "target_var = 'Dose_Epoetin-beta'\n",
    "# Dose_Epoetin-beta\n",
    "# Dose_Erythropoietin-alpha-concat\n",
    "# Dose_Darbepoetin-alpha"
   ]
  },
  {
   "cell_type": "code",
   "execution_count": 260,
   "metadata": {},
   "outputs": [
    {
     "name": "stdout",
     "output_type": "stream",
     "text": [
      "over all Dose_Epoetin-beta\n",
      "\n",
      "25 quantile Dose_Epoetin-beta\n",
      "\n",
      "100.0\n",
      "50 quantile Dose_Epoetin-beta\n",
      "\n",
      "120.0\n",
      "75 quantile Dose_Epoetin-beta\n",
      "\n",
      "120.0\n",
      "\n"
     ]
    }
   ],
   "source": [
    "print('over all', target_var, end='\\n\\n')\n",
    "for i in [25,50,75] :\n",
    "    print(i,'quantile',target_var,end='\\n\\n')\n",
    "    try :\n",
    "        print(np.percentile([i for i in df[target_var].values if i!=0], i))\n",
    "    except :\n",
    "        print('not hospital')\n",
    "    if i == 75 :\n",
    "        print('')"
   ]
  },
  {
   "cell_type": "code",
   "execution_count": 232,
   "metadata": {},
   "outputs": [
    {
     "name": "stdout",
     "output_type": "stream",
     "text": [
      "25 quantile Dose_Darbepoetin-alpha\n",
      "\n",
      "A 120.0\n",
      "B 80.0\n",
      "D 80.0\n",
      "E 80.0\n",
      "F 60.0\n",
      "G 80.0\n",
      "H 80.0\n",
      "50 quantile Dose_Darbepoetin-alpha\n",
      "\n",
      "A 200.0\n",
      "B 120.0\n",
      "D 120.0\n",
      "E 120.0\n",
      "F 120.0\n",
      "G 120.0\n",
      "H 160.0\n",
      "75 quantile Dose_Darbepoetin-alpha\n",
      "\n",
      "A 240.0\n",
      "B 200.0\n",
      "D 200.0\n",
      "E 160.0\n",
      "F 180.0\n",
      "G 200.0\n",
      "H 160.0\n",
      "\n"
     ]
    }
   ],
   "source": [
    "# print('get quantile', target_val)\n",
    "for i in [25,50,75] :\n",
    "    print(i,'quantile',target_var,end='\\n\\n')\n",
    "    for hospital in ['A','B','D','E','F','G','H'] :\n",
    "        try : \n",
    "            print(hospital, np.percentile([i for i in df[df['Order'].str.contains(hospital)][target_var].values if i!=0], i))\n",
    "        except :\n",
    "            print('no hospital')\n",
    "    if i == 75 :\n",
    "        print('')"
   ]
  },
  {
   "cell_type": "code",
   "execution_count": null,
   "metadata": {},
   "outputs": [],
   "source": []
  },
  {
   "cell_type": "markdown",
   "metadata": {},
   "source": [
    "# p-value"
   ]
  },
  {
   "cell_type": "code",
   "execution_count": 319,
   "metadata": {},
   "outputs": [],
   "source": [
    "import statsmodels\n",
    "from statsmodels.formula.api import ols\n",
    "from scipy import stats"
   ]
  },
  {
   "cell_type": "code",
   "execution_count": 320,
   "metadata": {},
   "outputs": [],
   "source": [
    "target_var = 'Height (cm)'"
   ]
  },
  {
   "cell_type": "code",
   "execution_count": 321,
   "metadata": {},
   "outputs": [],
   "source": [
    "temp = []\n",
    "for hospital in ['A','B','D','E','F','G','H'] :\n",
    "    temp.append(list(df[df['Order'].str.contains(hospital)].groupby(['Study_Subject_Number',target_var]).count().reset_index()[target_var].values))"
   ]
  },
  {
   "cell_type": "code",
   "execution_count": 322,
   "metadata": {
    "scrolled": true
   },
   "outputs": [],
   "source": [
    "s,p = stats.f_oneway(temp[0], temp[1], temp[2], temp[3], temp[4], temp[5], temp[6])"
   ]
  },
  {
   "cell_type": "code",
   "execution_count": 323,
   "metadata": {},
   "outputs": [
    {
     "name": "stdout",
     "output_type": "stream",
     "text": [
      "0.34413590968067880871\n"
     ]
    }
   ],
   "source": [
    "print (\"{:.20f}\".format(p)) "
   ]
  },
  {
   "cell_type": "code",
   "execution_count": 324,
   "metadata": {},
   "outputs": [
    {
     "data": {
      "text/plain": [
       "KruskalResult(statistic=6.58522551754474, pvalue=0.36091219575783373)"
      ]
     },
     "execution_count": 324,
     "metadata": {},
     "output_type": "execute_result"
    }
   ],
   "source": [
    "stats.kruskal(temp[0], temp[1], temp[2], temp[3], temp[4], temp[5], temp[6])"
   ]
  },
  {
   "cell_type": "code",
   "execution_count": null,
   "metadata": {},
   "outputs": [],
   "source": []
  },
  {
   "cell_type": "code",
   "execution_count": null,
   "metadata": {},
   "outputs": [],
   "source": []
  },
  {
   "cell_type": "code",
   "execution_count": null,
   "metadata": {},
   "outputs": [],
   "source": []
  },
  {
   "cell_type": "markdown",
   "metadata": {},
   "source": [
    "# Merged EPO"
   ]
  },
  {
   "cell_type": "code",
   "execution_count": 6,
   "metadata": {},
   "outputs": [
    {
     "data": {
      "text/plain": [
       "466"
      ]
     },
     "execution_count": 6,
     "metadata": {},
     "output_type": "execute_result"
    }
   ],
   "source": [
    "df = pd.read_excel(\"data_processed.xlsx\", sheet_name=0, header=0)\n",
    "\n",
    "indexes = np.unique(df['Study_Subject_Number'].values, return_index=True)[1]\n",
    "patient_list = [df['Study_Subject_Number'].values[index] for index in sorted(indexes)]\n",
    "len(patient_list)"
   ]
  },
  {
   "cell_type": "markdown",
   "metadata": {},
   "source": [
    "### Including EPO=0"
   ]
  },
  {
   "cell_type": "code",
   "execution_count": 15,
   "metadata": {},
   "outputs": [
    {
     "name": "stdout",
     "output_type": "stream",
     "text": [
      "25 quantile EPO_Dose\n",
      "A 0.0\n",
      "B 0.0\n",
      "D 0.0\n",
      "E 0.0\n",
      "F 0.0\n",
      "G 55.0\n",
      "H 40.0\n",
      "50 quantile EPO_Dose\n",
      "A 150.0\n",
      "B 0.0\n",
      "D 80.0\n",
      "E 60.0\n",
      "F 0.0\n",
      "G 120.0\n",
      "H 120.0\n",
      "75 quantile EPO_Dose\n",
      "A 240.0\n",
      "B 120.0\n",
      "D 160.0\n",
      "E 160.0\n",
      "F 100.0\n",
      "G 225.0\n",
      "H 160.0\n",
      "\n",
      "All 25/50/75: [  0.  80. 190.]\n"
     ]
    }
   ],
   "source": [
    "target_var = 'EPO_Dose'\n",
    "for i in [25,50,75] :\n",
    "    print(i,'quantile',target_var,end='\\n')\n",
    "    for hospital in ['A','B','D','E','F','G','H'] :\n",
    "        try : \n",
    "            print(hospital, np.percentile([i for i in df[df['Order'].str.contains(hospital)][target_var].values], i))\n",
    "        except :\n",
    "            print('no hospital')\n",
    "    if i == 75 :\n",
    "        print('')\n",
    "        \n",
    "print('All 25/50/75:', np.percentile([i for i in df[target_var].values], q=[25,50,75]))"
   ]
  },
  {
   "cell_type": "code",
   "execution_count": null,
   "metadata": {},
   "outputs": [],
   "source": []
  },
  {
   "cell_type": "markdown",
   "metadata": {},
   "source": [
    "### Excluding EPO=0"
   ]
  },
  {
   "cell_type": "code",
   "execution_count": 13,
   "metadata": {},
   "outputs": [
    {
     "name": "stdout",
     "output_type": "stream",
     "text": [
      "25 quantile EPO_Dose\n",
      "A 120.0\n",
      "B 80.0\n",
      "D 80.0\n",
      "E 90.0\n",
      "F 60.0\n",
      "G 80.0\n",
      "H 80.0\n",
      "50 quantile EPO_Dose\n",
      "A 200.0\n",
      "B 140.0\n",
      "D 140.0\n",
      "E 150.0\n",
      "F 120.0\n",
      "G 150.0\n",
      "H 160.0\n",
      "75 quantile EPO_Dose\n",
      "A 280.0\n",
      "B 225.0\n",
      "D 200.0\n",
      "E 200.0\n",
      "F 200.0\n",
      "G 240.0\n",
      "H 200.0\n",
      "\n",
      "All 25/50/75: [ 80. 160. 240.]\n"
     ]
    }
   ],
   "source": [
    "target_var = 'EPO_Dose'\n",
    "for i in [25,50,75] :\n",
    "    print(i,'quantile',target_var,end='\\n')\n",
    "    for hospital in ['A','B','D','E','F','G','H'] :\n",
    "        try : \n",
    "            print(hospital, np.percentile([i for i in df[df['Order'].str.contains(hospital)][target_var].values if i!=0], i))\n",
    "        except :\n",
    "            print('no hospital')\n",
    "    if i == 75 :\n",
    "        print('')\n",
    "        \n",
    "print('All 25/50/75:', np.percentile([i for i in df[target_var].values if i!=0], q=[25,50,75]))"
   ]
  },
  {
   "cell_type": "code",
   "execution_count": null,
   "metadata": {},
   "outputs": [],
   "source": []
  }
 ],
 "metadata": {
  "kernelspec": {
   "display_name": "Python 3",
   "language": "python",
   "name": "python3"
  },
  "language_info": {
   "codemirror_mode": {
    "name": "ipython",
    "version": 3
   },
   "file_extension": ".py",
   "mimetype": "text/x-python",
   "name": "python",
   "nbconvert_exporter": "python",
   "pygments_lexer": "ipython3",
   "version": "3.6.8"
  }
 },
 "nbformat": 4,
 "nbformat_minor": 4
}
